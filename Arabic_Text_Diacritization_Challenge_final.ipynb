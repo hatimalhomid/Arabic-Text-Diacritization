{
 "cells": [
  {
   "cell_type": "markdown",
   "metadata": {
    "id": "hHZcLA5qjsy7"
   },
   "source": [
    "# Introduction\n"
   ]
  },
  {
   "cell_type": "markdown",
   "metadata": {
    "id": "nPJV4X1ajv0t"
   },
   "source": [
    "This notebook implements deep learning models for Arabic text diacritization. Diacritization is the process of adding vocalization marks (diacritics) to Arabic text, which is typically written without these marks."
   ]
  },
  {
   "cell_type": "markdown",
   "metadata": {
    "id": "Zb0FClt7j1AA"
   },
   "source": [
    "# Setup and Environment\n"
   ]
  },
  {
   "cell_type": "markdown",
   "metadata": {
    "id": "YZbEOkTEkGww"
   },
   "source": [
    "Download Packages"
   ]
  },
  {
   "cell_type": "code",
   "execution_count": null,
   "metadata": {
    "colab": {
     "base_uri": "https://localhost:8080/"
    },
    "collapsed": true,
    "id": "JucOl0MWjuZf",
    "outputId": "bbf09f47-541a-461d-96e2-59fd1b0ff7d9"
   },
   "outputs": [
    {
     "name": "stdout",
     "output_type": "stream",
     "text": [
      "Requirement already satisfied: tensorflow in /usr/local/lib/python3.11/dist-packages (2.18.0)\n",
      "Requirement already satisfied: numpy in /usr/local/lib/python3.11/dist-packages (2.0.2)\n",
      "Requirement already satisfied: pandas in /usr/local/lib/python3.11/dist-packages (2.2.2)\n",
      "Requirement already satisfied: scikit-learn in /usr/local/lib/python3.11/dist-packages (1.6.1)\n",
      "Collecting seqeval\n",
      "  Downloading seqeval-1.2.2.tar.gz (43 kB)\n",
      "\u001b[?25l     \u001b[90m━━━━━━━━━━━━━━━━━━━━━━━━━━━━━━━━━━━━━━━━\u001b[0m \u001b[32m0.0/43.6 kB\u001b[0m \u001b[31m?\u001b[0m eta \u001b[36m-:--:--\u001b[0m\r\n",
      "\u001b[2K     \u001b[90m━━━━━━━━━━━━━━━━━━━━━━━━━━━━━━━━━━━━━━━━\u001b[0m \u001b[32m43.6/43.6 kB\u001b[0m \u001b[31m3.6 MB/s\u001b[0m eta \u001b[36m0:00:00\u001b[0m\n",
      "\u001b[?25h  Preparing metadata (setup.py) ... \u001b[?25l\u001b[?25hdone\n",
      "Collecting jiwer\n",
      "  Downloading jiwer-3.1.0-py3-none-any.whl.metadata (2.6 kB)\n",
      "Collecting arabert\n",
      "  Downloading arabert-1.0.1-py3-none-any.whl.metadata (16 kB)\n",
      "Requirement already satisfied: absl-py>=1.0.0 in /usr/local/lib/python3.11/dist-packages (from tensorflow) (1.4.0)\n",
      "Requirement already satisfied: astunparse>=1.6.0 in /usr/local/lib/python3.11/dist-packages (from tensorflow) (1.6.3)\n",
      "Requirement already satisfied: flatbuffers>=24.3.25 in /usr/local/lib/python3.11/dist-packages (from tensorflow) (25.2.10)\n",
      "Requirement already satisfied: gast!=0.5.0,!=0.5.1,!=0.5.2,>=0.2.1 in /usr/local/lib/python3.11/dist-packages (from tensorflow) (0.6.0)\n",
      "Requirement already satisfied: google-pasta>=0.1.1 in /usr/local/lib/python3.11/dist-packages (from tensorflow) (0.2.0)\n",
      "Requirement already satisfied: libclang>=13.0.0 in /usr/local/lib/python3.11/dist-packages (from tensorflow) (18.1.1)\n",
      "Requirement already satisfied: opt-einsum>=2.3.2 in /usr/local/lib/python3.11/dist-packages (from tensorflow) (3.4.0)\n",
      "Requirement already satisfied: packaging in /usr/local/lib/python3.11/dist-packages (from tensorflow) (24.2)\n",
      "Requirement already satisfied: protobuf!=4.21.0,!=4.21.1,!=4.21.2,!=4.21.3,!=4.21.4,!=4.21.5,<6.0.0dev,>=3.20.3 in /usr/local/lib/python3.11/dist-packages (from tensorflow) (5.29.4)\n",
      "Requirement already satisfied: requests<3,>=2.21.0 in /usr/local/lib/python3.11/dist-packages (from tensorflow) (2.32.3)\n",
      "Requirement already satisfied: setuptools in /usr/local/lib/python3.11/dist-packages (from tensorflow) (75.2.0)\n",
      "Requirement already satisfied: six>=1.12.0 in /usr/local/lib/python3.11/dist-packages (from tensorflow) (1.17.0)\n",
      "Requirement already satisfied: termcolor>=1.1.0 in /usr/local/lib/python3.11/dist-packages (from tensorflow) (3.0.1)\n",
      "Requirement already satisfied: typing-extensions>=3.6.6 in /usr/local/lib/python3.11/dist-packages (from tensorflow) (4.13.2)\n",
      "Requirement already satisfied: wrapt>=1.11.0 in /usr/local/lib/python3.11/dist-packages (from tensorflow) (1.17.2)\n",
      "Requirement already satisfied: grpcio<2.0,>=1.24.3 in /usr/local/lib/python3.11/dist-packages (from tensorflow) (1.71.0)\n",
      "Requirement already satisfied: tensorboard<2.19,>=2.18 in /usr/local/lib/python3.11/dist-packages (from tensorflow) (2.18.0)\n",
      "Requirement already satisfied: keras>=3.5.0 in /usr/local/lib/python3.11/dist-packages (from tensorflow) (3.8.0)\n",
      "Requirement already satisfied: h5py>=3.11.0 in /usr/local/lib/python3.11/dist-packages (from tensorflow) (3.13.0)\n",
      "Requirement already satisfied: ml-dtypes<0.5.0,>=0.4.0 in /usr/local/lib/python3.11/dist-packages (from tensorflow) (0.4.1)\n",
      "Requirement already satisfied: tensorflow-io-gcs-filesystem>=0.23.1 in /usr/local/lib/python3.11/dist-packages (from tensorflow) (0.37.1)\n",
      "Requirement already satisfied: python-dateutil>=2.8.2 in /usr/local/lib/python3.11/dist-packages (from pandas) (2.9.0.post0)\n",
      "Requirement already satisfied: pytz>=2020.1 in /usr/local/lib/python3.11/dist-packages (from pandas) (2025.2)\n",
      "Requirement already satisfied: tzdata>=2022.7 in /usr/local/lib/python3.11/dist-packages (from pandas) (2025.2)\n",
      "Requirement already satisfied: scipy>=1.6.0 in /usr/local/lib/python3.11/dist-packages (from scikit-learn) (1.15.2)\n",
      "Requirement already satisfied: joblib>=1.2.0 in /usr/local/lib/python3.11/dist-packages (from scikit-learn) (1.4.2)\n",
      "Requirement already satisfied: threadpoolctl>=3.1.0 in /usr/local/lib/python3.11/dist-packages (from scikit-learn) (3.6.0)\n",
      "Requirement already satisfied: click>=8.1.8 in /usr/local/lib/python3.11/dist-packages (from jiwer) (8.1.8)\n",
      "Collecting rapidfuzz>=3.9.7 (from jiwer)\n",
      "  Downloading rapidfuzz-3.13.0-cp311-cp311-manylinux_2_17_x86_64.manylinux2014_x86_64.whl.metadata (12 kB)\n",
      "Collecting PyArabic (from arabert)\n",
      "  Downloading PyArabic-0.6.15-py3-none-any.whl.metadata (10 kB)\n",
      "Collecting farasapy (from arabert)\n",
      "  Downloading farasapy-0.0.14-py3-none-any.whl.metadata (8.9 kB)\n",
      "Collecting emoji==1.4.2 (from arabert)\n",
      "  Downloading emoji-1.4.2.tar.gz (184 kB)\n",
      "\u001b[2K     \u001b[90m━━━━━━━━━━━━━━━━━━━━━━━━━━━━━━━━━━━━━━\u001b[0m \u001b[32m185.0/185.0 kB\u001b[0m \u001b[31m14.3 MB/s\u001b[0m eta \u001b[36m0:00:00\u001b[0m\n",
      "\u001b[?25h  Preparing metadata (setup.py) ... \u001b[?25l\u001b[?25hdone\n",
      "Requirement already satisfied: wheel<1.0,>=0.23.0 in /usr/local/lib/python3.11/dist-packages (from astunparse>=1.6.0->tensorflow) (0.45.1)\n",
      "Requirement already satisfied: rich in /usr/local/lib/python3.11/dist-packages (from keras>=3.5.0->tensorflow) (13.9.4)\n",
      "Requirement already satisfied: namex in /usr/local/lib/python3.11/dist-packages (from keras>=3.5.0->tensorflow) (0.0.9)\n",
      "Requirement already satisfied: optree in /usr/local/lib/python3.11/dist-packages (from keras>=3.5.0->tensorflow) (0.15.0)\n",
      "Requirement already satisfied: charset-normalizer<4,>=2 in /usr/local/lib/python3.11/dist-packages (from requests<3,>=2.21.0->tensorflow) (3.4.1)\n",
      "Requirement already satisfied: idna<4,>=2.5 in /usr/local/lib/python3.11/dist-packages (from requests<3,>=2.21.0->tensorflow) (3.10)\n",
      "Requirement already satisfied: urllib3<3,>=1.21.1 in /usr/local/lib/python3.11/dist-packages (from requests<3,>=2.21.0->tensorflow) (2.4.0)\n",
      "Requirement already satisfied: certifi>=2017.4.17 in /usr/local/lib/python3.11/dist-packages (from requests<3,>=2.21.0->tensorflow) (2025.4.26)\n",
      "Requirement already satisfied: markdown>=2.6.8 in /usr/local/lib/python3.11/dist-packages (from tensorboard<2.19,>=2.18->tensorflow) (3.8)\n",
      "Requirement already satisfied: tensorboard-data-server<0.8.0,>=0.7.0 in /usr/local/lib/python3.11/dist-packages (from tensorboard<2.19,>=2.18->tensorflow) (0.7.2)\n",
      "Requirement already satisfied: werkzeug>=1.0.1 in /usr/local/lib/python3.11/dist-packages (from tensorboard<2.19,>=2.18->tensorflow) (3.1.3)\n",
      "Requirement already satisfied: tqdm in /usr/local/lib/python3.11/dist-packages (from farasapy->arabert) (4.67.1)\n",
      "Requirement already satisfied: MarkupSafe>=2.1.1 in /usr/local/lib/python3.11/dist-packages (from werkzeug>=1.0.1->tensorboard<2.19,>=2.18->tensorflow) (3.0.2)\n",
      "Requirement already satisfied: markdown-it-py>=2.2.0 in /usr/local/lib/python3.11/dist-packages (from rich->keras>=3.5.0->tensorflow) (3.0.0)\n",
      "Requirement already satisfied: pygments<3.0.0,>=2.13.0 in /usr/local/lib/python3.11/dist-packages (from rich->keras>=3.5.0->tensorflow) (2.19.1)\n",
      "Requirement already satisfied: mdurl~=0.1 in /usr/local/lib/python3.11/dist-packages (from markdown-it-py>=2.2.0->rich->keras>=3.5.0->tensorflow) (0.1.2)\n",
      "Downloading jiwer-3.1.0-py3-none-any.whl (22 kB)\n",
      "Downloading arabert-1.0.1-py3-none-any.whl (179 kB)\n",
      "\u001b[2K   \u001b[90m━━━━━━━━━━━━━━━━━━━━━━━━━━━━━━━━━━━━━━━━\u001b[0m \u001b[32m179.3/179.3 kB\u001b[0m \u001b[31m16.2 MB/s\u001b[0m eta \u001b[36m0:00:00\u001b[0m\n",
      "\u001b[?25hDownloading rapidfuzz-3.13.0-cp311-cp311-manylinux_2_17_x86_64.manylinux2014_x86_64.whl (3.1 MB)\n",
      "\u001b[2K   \u001b[90m━━━━━━━━━━━━━━━━━━━━━━━━━━━━━━━━━━━━━━━━\u001b[0m \u001b[32m3.1/3.1 MB\u001b[0m \u001b[31m103.7 MB/s\u001b[0m eta \u001b[36m0:00:00\u001b[0m\n",
      "\u001b[?25hDownloading farasapy-0.0.14-py3-none-any.whl (11 kB)\n",
      "Downloading PyArabic-0.6.15-py3-none-any.whl (126 kB)\n",
      "\u001b[2K   \u001b[90m━━━━━━━━━━━━━━━━━━━━━━━━━━━━━━━━━━━━━━━━\u001b[0m \u001b[32m126.4/126.4 kB\u001b[0m \u001b[31m13.5 MB/s\u001b[0m eta \u001b[36m0:00:00\u001b[0m\n",
      "\u001b[?25hBuilding wheels for collected packages: seqeval, emoji\n",
      "  Building wheel for seqeval (setup.py) ... \u001b[?25l\u001b[?25hdone\n",
      "  Created wheel for seqeval: filename=seqeval-1.2.2-py3-none-any.whl size=16162 sha256=d5c3486595d82b1a9808282c534897bc9d35aed1c2f87d564b189c9b2aa3fcce\n",
      "  Stored in directory: /root/.cache/pip/wheels/bc/92/f0/243288f899c2eacdfa8c5f9aede4c71a9bad0ee26a01dc5ead\n",
      "  Building wheel for emoji (setup.py) ... \u001b[?25l\u001b[?25hdone\n",
      "  Created wheel for emoji: filename=emoji-1.4.2-py3-none-any.whl size=186456 sha256=3a0927475fc66b77e76b07889cfac91ee5ca79ce0991d36a97878fb181052951\n",
      "  Stored in directory: /root/.cache/pip/wheels/94/08/b4/78657b1541bb704b088317b52429ee4016d9888fe47dbb130f\n",
      "Successfully built seqeval emoji\n",
      "Installing collected packages: emoji, rapidfuzz, PyArabic, jiwer, farasapy, seqeval, arabert\n",
      "Successfully installed PyArabic-0.6.15 arabert-1.0.1 emoji-1.4.2 farasapy-0.0.14 jiwer-3.1.0 rapidfuzz-3.13.0 seqeval-1.2.2\n"
     ]
    }
   ],
   "source": [
    "!pip install tensorflow numpy pandas scikit-learn seqeval jiwer arabert onnx\n"
   ]
  },
  {
   "cell_type": "markdown",
   "metadata": {},
   "source": [
    "# Import Required Libraries"
   ]
  },
  {
   "cell_type": "code",
   "execution_count": null,
   "metadata": {
    "id": "r4K3MGBwY4y_"
   },
   "outputs": [],
   "source": [
    "import os\n",
    "import zipfile\n",
    "import re\n",
    "import random\n",
    "import numpy as np\n",
    "import pandas as pd\n",
    "import torch\n",
    "from torch.utils.data import Dataset, DataLoader\n",
    "from tqdm.notebook import tqdm\n",
    "import matplotlib.pyplot as plt\n",
    "import seaborn as sns\n",
    "from collections import Counter\n",
    "import unicodedata\n",
    "import torch.nn as nn\n",
    "import torch.nn.functional as F\n",
    "import math\n",
    "import onnx"
   ]
  },
  {
   "cell_type": "markdown",
   "metadata": {
    "id": "qkZA_WjzkEfg"
   },
   "source": [
    "We will now extract the uploaded `.zip` file and explore the structure to identify the text files for further processing.\n",
    "\n",
    "\n"
   ]
  },
  {
   "cell_type": "code",
   "execution_count": null,
   "metadata": {
    "colab": {
     "base_uri": "https://localhost:8080/"
    },
    "collapsed": true,
    "id": "nUQKL9IFlHHY",
    "outputId": "08d64e01-72b4-47b4-a85a-13dd72204523"
   },
   "outputs": [
    {
     "name": "stdout",
     "output_type": "stream",
     "text": [
      "File found at: /content/Tashkeela-arabic-diacritized-text-utf8-0.3.zip\n"
     ]
    }
   ],
   "source": [
    "\n",
    "uploaded_zip_path = \"/content/Tashkeela-arabic-diacritized-text-utf8-0.3.zip\"\n",
    "extract_to = \"/content/tashkeela_data\"\n",
    "\n",
    "# Check if the file exists\n",
    "if os.path.exists(uploaded_zip_path):\n",
    "    print(f\"File found at: {uploaded_zip_path}\")\n",
    "    with zipfile.ZipFile(uploaded_zip_path, 'r') as zip_ref:\n",
    "        zip_ref.extractall(extract_to)\n",
    "else:\n",
    "    print(f\"Error: File not found at: {uploaded_zip_path}\")\n",
    "    print(\"Please check the file path and ensure the file exists.\")"
   ]
  },
  {
   "cell_type": "code",
   "execution_count": null,
   "metadata": {
    "colab": {
     "base_uri": "https://localhost:8080/"
    },
    "id": "7LsUE3Ls3gXT",
    "outputId": "98aac83c-43d3-48f5-b92f-c318e1f52eee"
   },
   "outputs": [
    {
     "name": "stdout",
     "output_type": "stream",
     "text": [
      "Drive already mounted at /content/drive; to attempt to forcibly remount, call drive.mount(\"/content/drive\", force_remount=True).\n",
      "Using device: cuda\n"
     ]
    }
   ],
   "source": [
    "def set_seed(seed=42):\n",
    "    random.seed(seed)\n",
    "    np.random.seed(seed)\n",
    "    torch.manual_seed(seed)\n",
    "    torch.cuda.manual_seed_all(seed)\n",
    "    os.environ['PYTHONHASHSEED'] = str(seed)\n",
    "    torch.backends.cudnn.deterministic = True\n",
    "\n",
    "set_seed(42)\n",
    "\n",
    "# Mount Google Drive if you're using Colab\n",
    "from google.colab import drive\n",
    "drive.mount('/content/drive')\n",
    "\n",
    "\n",
    "device = torch.device('cuda' if torch.cuda.is_available() else 'cpu')\n",
    "print(f\"Using device: {device}\")\n",
    "\n",
    "\n",
    "ARABIC_DIACRITICS = {\n",
    "    '\\u064e': 'FATHA',       # َ  (fat-ha)\n",
    "    '\\u064b': 'FATHATAN',    # ً  (double fat-ha)\n",
    "    '\\u064f': 'DAMMA',       # ُ  (damma)\n",
    "    '\\u064c': 'DAMMATAN',    # ٌ  (double damma)\n",
    "    '\\u0650': 'KASRA',       # ِ  (kasra)\n",
    "    '\\u064d': 'KASRATAN',    # ٍ  (double kasra)\n",
    "    '\\u0651': 'SHADDA',      # ّ  (shadda)\n",
    "    '\\u0652': 'SUKUN',       # ْ  (sukun)\n",
    "    '\\u0670': 'SUPERSCRIPT_ALEF', # ٰ (alef khanjareeya)\n",
    "}\n",
    "\n",
    "ARABIC_CHARS_PATTERN = re.compile('[\\u0621-\\u063A\\u0641-\\u064A]')\n",
    "ARABIC_CHARS = {chr(code) for code in range(0x0621, 0x064A + 1) if chr(code) not in (chr(0x063B), chr(0x063C), chr(0x063D), chr(0x063E), chr(0x063F), chr(0x0640))}"
   ]
  },
  {
   "cell_type": "markdown",
   "metadata": {
    "id": "70N4uobgMVWa"
   },
   "source": [
    "# Arabic Diacritization Dataset Preparation and Exploration\n",
    "This notebook prepares Arabic diacritized text for training and evaluation by:\n",
    "\n",
    "Cleaning noisy text,\n",
    "\n",
    "Separating characters and diacritics,\n",
    "\n",
    "Sampling and analyzing dataset contents,\n",
    "\n",
    "Creating training-ready datasets and vocabularies.\n",
    "\n"
   ]
  },
  {
   "cell_type": "markdown",
   "metadata": {
    "id": "y9G0zHHvMlVX"
   },
   "source": [
    "# Character Processing Functions\n",
    "Functions:\n",
    "is_arabic_char(char): Checks if a character is Arabic.\n",
    "\n",
    "separate_chars_and_diacritics(text): Splits Arabic letters from their diacritics.\n",
    "\n",
    "remove_diacritics(text): Removes diacritics for baseline comparison.\n",
    "\n",
    "💡 Notes\n",
    "Efficient handling of Arabic-specific Unicode and diacritics.\n",
    "\n",
    "Prepares text for models that learn mappings from undiacritized to diacritized sequences."
   ]
  },
  {
   "cell_type": "code",
   "execution_count": null,
   "metadata": {
    "id": "el6bDuiu3hAO"
   },
   "outputs": [],
   "source": [
    "# Function to check if a character is an Arabic letter\n",
    "def is_arabic_char(char):\n",
    "    return bool(ARABIC_CHARS_PATTERN.match(char))\n",
    "\n",
    "# Function to separate text into characters and diacritics\n",
    "def separate_chars_and_diacritics(text):\n",
    "    chars = []\n",
    "    diacritics = []\n",
    "    current_diacritics = []\n",
    "\n",
    "    i = 0\n",
    "    while i < len(text):\n",
    "        char = text[i]\n",
    "\n",
    "        # If it's an Arabic character\n",
    "        if is_arabic_char(char):\n",
    "            chars.append(char)\n",
    "            i += 1\n",
    "\n",
    "            # Look ahead for diacritics\n",
    "            while i < len(text) and text[i] in ARABIC_DIACRITICS:\n",
    "                current_diacritics.append(text[i])\n",
    "                i += 1\n",
    "\n",
    "            # Save the diacritics for this character\n",
    "            if current_diacritics:\n",
    "                diacritics.append(''.join(current_diacritics))\n",
    "                current_diacritics = []\n",
    "            else:\n",
    "                diacritics.append('')\n",
    "        else:\n",
    "            # Skip non-Arabic characters\n",
    "            if char.isspace() or unicodedata.category(char).startswith('P'):\n",
    "                chars.append(char)\n",
    "                diacritics.append('')\n",
    "            i += 1\n",
    "\n",
    "    return ''.join(chars), diacritics"
   ]
  },
  {
   "cell_type": "markdown",
   "metadata": {
    "id": "eYqysY8VNErF"
   },
   "source": [
    "# Text Cleaning\n",
    "Function:\n",
    "clean_text(text)\n",
    "Removes metadata, footnotes, and non-Arabic noise.\n",
    "\n",
    "Retains only Arabic letters, whitespace, and punctuation."
   ]
  },
  {
   "cell_type": "code",
   "execution_count": null,
   "metadata": {
    "id": "2ZAA0mtd3j16"
   },
   "outputs": [],
   "source": [
    "def clean_text(text):\n",
    "    # Remove metadata, headers, page markers, and footnotes\n",
    "    text = re.sub(r'\\[ ص: \\d+ \\]', '', text)  # Remove page markers ex [ ص: 17 ]\n",
    "    text = re.sub(r'\\(\\d+/\\d+\\)', '', text)    # Remove footnotes ex (1/17)\n",
    "    text = re.sub(r'^.*تم إعداد هذا الملف.*$', '', text, flags=re.MULTILINE)  # Remove preparation line\n",
    "    text = re.sub(r'^.*(الكتاب|المؤلف|دار|سنة|عدد الأجزاء|مقدمة).*$\\n?', '', text, flags=re.MULTILINE)  # Remove metadata\n",
    "    text = re.sub(r'^\\s*$', '', text, flags=re.MULTILINE)  # Remove empty lines\n",
    "\n",
    "    filtered_chars = []\n",
    "    for char in text:\n",
    "        if is_arabic_char(char) or char in ARABIC_DIACRITICS or char.isspace() or unicodedata.category(char).startswith('P'):\n",
    "            filtered_chars.append(char)\n",
    "\n",
    "    text = ''.join(filtered_chars)\n",
    "    text = text.strip()\n",
    "    return text\n",
    "\n",
    "def remove_diacritics(text):\n",
    "    return ''.join([c for c in text if c not in ARABIC_DIACRITICS])"
   ]
  },
  {
   "cell_type": "markdown",
   "metadata": {
    "id": "aZIjQjVyM26x"
   },
   "source": [
    "# Dataset Exploration\n",
    "**Function:**\n",
    "explore_dataset(dataset_path)\n",
    "Loads a few samples from the dataset.\n",
    "\n",
    "**Computes:**\n",
    "\n",
    "Number of Arabic characters\n",
    "\n",
    "Number of diacritized characters\n",
    "\n",
    "Diacritization coverage rate\n",
    "\n",
    "Sample output without diacritics\n",
    "\n",
    "**Sample Output Example**\n",
    "```\n",
    "Sample 1 from xyz.txt:\n",
    "Arabic characters: 86\n",
    "Diacritized characters: 78\n",
    "Diacritization rate: 90.7%\n",
    "Text without diacritics: \"هذا نص تجريبي بدون التشكيل ...\"\n",
    "\n",
    "```"
   ]
  },
  {
   "cell_type": "code",
   "execution_count": null,
   "metadata": {
    "collapsed": true,
    "id": "7fPfpuiz4ZBU"
   },
   "outputs": [],
   "source": [
    "def explore_dataset(dataset_path):\n",
    "    print(\"Exploring dataset samples...\")\n",
    "    samples = get_sample_data(dataset_path, num_samples=3)\n",
    "\n",
    "    for i, sample in enumerate(samples, 1):\n",
    "        print(f\"\\nSample {i} from {sample['source']}:\")\n",
    "        print(\"Sample text (first 100 chars):\", sample['sample'][:100])\n",
    "\n",
    "        chars, diacritics = separate_chars_and_diacritics(sample['sample'][:100])\n",
    "\n",
    "        # Count diacritics in the sample\n",
    "        diacritic_count = sum(1 for d in diacritics if d)\n",
    "        char_count = sum(1 for c in chars if is_arabic_char(c))\n",
    "\n",
    "        print(f\"Arabic characters: {char_count}\")\n",
    "        print(f\"Diacritized characters: {diacritic_count}\")\n",
    "        print(f\"Diacritization rate: {diacritic_count/char_count:.2%}\")\n",
    "\n",
    "        text_without_diacritics = remove_diacritics(sample['sample'][:100])\n",
    "        print(\"Text without diacritics:\", text_without_diacritics)\n",
    "\n"
   ]
  },
  {
   "cell_type": "markdown",
   "metadata": {
    "id": "Rcxh5lk1NRQJ"
   },
   "source": [
    "# Dataset Sampling from Disk\n",
    "\n",
    "\n",
    "**Function**:\n",
    "\n",
    "get_sample_data(...)\n",
    "Randomly fetches sample .txt files from classical and MSA directories.\n",
    "\n",
    "Uses the clean_text function and limits samples to 500 chars.\n",
    "\n",
    "**Function**:\n",
    "\n",
    "create_dataset(...)\n",
    "Loads all files from dataset directories.\n",
    "\n",
    "Splits each file into sentence-like chunks.\n",
    "\n",
    "Stores both diacritized and undiacritized versions.\n",
    "\n",
    "**Results**\n",
    "\n",
    "Handles thousands of lines robustly with error handling.\n",
    "\n",
    "Collects samples into a clean DataFrame.\n",
    "\n",
    "**Output Sample**\n",
    "\n",
    "\n",
    "\n",
    "```\n",
    "Total files processed: 585\n",
    "Total samples: 4272504\n",
    "Average diacritized text length: 135.15 characters\n",
    "Average undiacritized text length: 81.53 characters\n",
    "\n",
    "Data Quality Checks:\n",
    "Missing values:\n",
    " diacritized      0\n",
    "undiacritized    0\n",
    "source           0\n",
    "dtype: int64\n",
    "Duplicate samples: 580100\n",
    "Sample diacritized text (first 5):\n",
    "Sample 1: الْمَاءُ الَّذِي يَنْجُسُ وَاَلَّذِي لَا يَنْجُسُ ...\n",
    "Sample 2: الْمَاءُ الرَّاكِدُ ( قَالَ الشَّافِعِيُّ ) , وَال...\n",
    "Sample 3: الْجُنُبُ وَغَيْرُهُ ( قَالَ الشَّافِعِيُّ ) رَحِم...\n",
    "Sample 4: بَابُ أَصْلِ فَرْضِ الصَّلَاةِ ( قَالَ الشَّافِعِي...\n",
    "Sample 5: بَابُ صَلَاةِ الْعُذْرِ...\n",
    "\n",
    "```\n",
    "\n",
    "\n"
   ]
  },
  {
   "cell_type": "code",
   "execution_count": null,
   "metadata": {
    "id": "bKoG5Bdfc0xa"
   },
   "outputs": [],
   "source": [
    "# Function to get sample data from different sources to ensure variety\n",
    "def get_sample_data(base_path, num_samples=3, max_files_per_dir=2):\n",
    "    all_samples = []\n",
    "    dir_files = {}\n",
    "\n",
    "    # Classical texts directory\n",
    "    classical_dir = os.path.join(base_path, \"texts.txt\")\n",
    "    if os.path.exists(classical_dir) and os.path.isdir(classical_dir):\n",
    "        classical_files = [f for f in os.listdir(classical_dir) if f.endswith('.txt')]\n",
    "        dir_files[classical_dir] = random.sample(classical_files, min(max_files_per_dir, len(classical_files)))\n",
    "\n",
    "    msa_dir = os.path.join(base_path, \"texts.txt\", \"msa\")\n",
    "    if os.path.exists(msa_dir) and os.path.isdir(msa_dir):\n",
    "        for subdir in os.listdir(msa_dir):\n",
    "            subdir_path = os.path.join(msa_dir, subdir)\n",
    "            if os.path.isdir(subdir_path):\n",
    "                msa_files = [f for f in os.listdir(subdir_path) if f.endswith('.txt')]\n",
    "                if msa_files:\n",
    "                    dir_files[subdir_path] = random.sample(msa_files, min(max_files_per_dir, len(msa_files)))\n",
    "\n",
    "    # Collect samples from each directory\n",
    "    for dir_path, files in dir_files.items():\n",
    "        for file in files:\n",
    "            file_path = os.path.join(dir_path, file)\n",
    "            try:\n",
    "                with open(file_path, 'r', encoding='utf-8') as f:\n",
    "                    content = f.read()\n",
    "\n",
    "                # Clean the text\n",
    "                content = clean_text(content)\n",
    "\n",
    "                # Take a small sample from the beginning (first 500 characters)\n",
    "                sample = content[:500] if len(content) > 500 else content\n",
    "\n",
    "                # Add to samples\n",
    "                all_samples.append({\n",
    "                    'source': file,\n",
    "                    'path': file_path,\n",
    "                    'sample': sample\n",
    "                })\n",
    "\n",
    "                if len(all_samples) >= num_samples:\n",
    "                    break\n",
    "            except Exception as e:\n",
    "                print(f\"Error reading {file_path}: {e}\")\n",
    "\n",
    "        if len(all_samples) >= num_samples:\n",
    "            break\n",
    "\n",
    "    return all_samples\n"
   ]
  },
  {
   "cell_type": "code",
   "execution_count": null,
   "metadata": {
    "id": "BQ2io0mCgQl0"
   },
   "outputs": [],
   "source": [
    "\n",
    "dataset_path = '/content/tashkeela_data'\n",
    "samples = get_sample_data(dataset_path, num_samples=3)\n",
    "\n",
    "# Analyze samples\n",
    "for i, sample in enumerate(samples, 1):\n",
    "    print(f\"\\nSample {i} from {sample['source']}:\")\n",
    "    print(\"Sample text (first 100 chars):\", sample['sample'][:100])\n",
    "\n",
    "    chars, diacritics = separate_chars_and_diacritics(sample['sample'][:100])\n",
    "\n",
    "    # Count diacritics in the sample\n",
    "    diacritic_count = sum(1 for d in diacritics if d)\n",
    "    char_count = sum(1 for c in chars if is_arabic_char(c))\n",
    "\n",
    "    print(f\"Arabic characters: {char_count}\")\n",
    "    print(f\"Diacritized characters: {diacritic_count}\")\n",
    "    print(f\"Diacritization rate: {diacritic_count/max(1, char_count):.2%}\")\n",
    "\n",
    "    text_without_diacritics = remove_diacritics(sample['sample'][:100])\n",
    "    print(\"Text without diacritics:\", text_without_diacritics)"
   ]
  },
  {
   "cell_type": "code",
   "execution_count": null,
   "metadata": {
    "id": "arTt98XJ6oYU"
   },
   "outputs": [],
   "source": [
    "\n",
    "def create_dataset(dataset_path):\n",
    "    data = []\n",
    "    file_count = 0\n",
    "\n",
    "    paths_to_search = [\n",
    "        os.path.join(dataset_path, \"texts.txt\"),  # Classical texts\n",
    "        os.path.join(dataset_path, \"texts.txt\", \"msa\"),  # Modern Standard Arabic\n",
    "    ]\n",
    "\n",
    "    for base_path in paths_to_search:\n",
    "        if not os.path.exists(base_path):\n",
    "            print(f\"Path not found: {base_path}\")\n",
    "            continue\n",
    "\n",
    "        if os.path.isdir(base_path):\n",
    "            for root, _, files in os.walk(base_path):\n",
    "                txt_files = [f for f in files if f.endswith('.txt')]\n",
    "\n",
    "                for file in tqdm(txt_files, desc=f\"Processing {os.path.basename(root)}\"):\n",
    "                    file_path = os.path.join(root, file)\n",
    "\n",
    "                    try:\n",
    "                        with open(file_path, 'r', encoding='utf-8') as f:\n",
    "                            content = f.read()\n",
    "\n",
    "                        content = clean_text(content)\n",
    "\n",
    "                        # Split text into  chunks\n",
    "                        chunks = re.split(r'[.!?،؛]', content)\n",
    "                        chunks = [chunk.strip() for chunk in chunks if len(chunk.strip()) > 10]\n",
    "\n",
    "                        # Process all chunks\n",
    "                        for chunk in chunks:\n",
    "                            if len(chunk) < 10:\n",
    "                                continue\n",
    "\n",
    "                            diacritized_text = chunk\n",
    "                            undiacritized_text = remove_diacritics(chunk)\n",
    "\n",
    "                            data.append({\n",
    "                                'diacritized': diacritized_text,\n",
    "                                'undiacritized': undiacritized_text,\n",
    "                                'source': file\n",
    "                            })\n",
    "\n",
    "                        file_count += 1\n",
    "                    except Exception as e:\n",
    "                        print(f\"Error processing {file_path}: {e}\")\n",
    "\n",
    "    df = pd.DataFrame(data)\n",
    "\n",
    "    print(f\"Total files processed: {file_count}\")\n",
    "    print(f\"Total samples: {len(df)}\")\n",
    "    print(f\"Average diacritized text length: {df['diacritized'].str.len().mean():.2f} characters\")\n",
    "    print(f\"Average undiacritized text length: {df['undiacritized'].str.len().mean():.2f} characters\")\n",
    "\n",
    "\n",
    "    # Data quality checks\n",
    "    print(\"\\nData Quality Checks:\")\n",
    "    print(\"Missing values:\\n\", df.isnull().sum())\n",
    "    print(\"Duplicate samples:\", df.duplicated(subset=['diacritized']).sum())\n",
    "    print(\"Sample diacritized text (first 5):\")\n",
    "    for i, row in df.head().iterrows():\n",
    "        print(f\"Sample {i+1}: {row['diacritized'][:50]}...\")\n",
    "\n",
    "    return df\n",
    "\n"
   ]
  },
  {
   "cell_type": "code",
   "execution_count": null,
   "metadata": {
    "colab": {
     "base_uri": "https://localhost:8080/",
     "height": 873,
     "referenced_widgets": [
      "444749c43e2d46aca9d36681905ac119",
      "f97f041ffa31417f9b4e029b7e276a57",
      "ab84fbff847d46c69e937cccc4458880",
      "22d4dfba2c4646f58317ad6bb7a00809",
      "deebe0638d3d4c7bb1312821ffabf029",
      "256ce5a04e4143abbc62a27c319b5d6f",
      "2e883e937de6474ba9ff62f9c887e235",
      "cd32a8e4a4c64f88a9a89bcbb27ff00a",
      "c23ef923d98a48d88317ccd551fdcfcd",
      "8ec7ca9dfbdb41d8aa7853b5043e18ce",
      "9f652ebf7a524e23827838b120c499f8",
      "01cd406a7e5440e78759cc7801886839",
      "487f699b1aba4a509e7df0c4ac6bf472",
      "2ac406af532e42b2924c05d08835dc96",
      "3d2ec1b87b5242d7af97b858e7a242c6",
      "a6e35ac022824a819af92d461eb26663",
      "5d3569670d074920a8c3ff821c3b59aa",
      "f1fcf99c4a2a4310bb88fe22089a1e42",
      "b3ae2cab0e00447f9a022cbbf54ff389",
      "b9f515a93bc242eaa40c45ce39a5d69c",
      "25ab5f81334340ddac7f32768b875ba8",
      "8291d32e228b4b78b2a003e960c3ca9f",
      "1872fe5a89e44fe1a515bbdfb26918df",
      "5d92f38c4b0f4859b6c4b9e319e1b0e9",
      "fbe0edb0d49d4143a873c10a14540fd0",
      "f19ef233cddc48abafbc8672c6c6024a",
      "e32b7ed6625140ec895830cb454c81f4",
      "c01e9211199c4506be17cf9970243538",
      "4ad8d2dc5b4b4217b6b0ff4cdbe80290",
      "ce307fd45164456eb77381f7fba56efe",
      "a340c617fa6d4a8689284f24e84fe374",
      "aa38acd28f4e4d7bb1b7d8432bcfaa88",
      "49faeb84ab9947c9b7f81e9c807c7186",
      "813139d8fd4b4a47a2db96894b908971",
      "5aaa9e29b76c446ab80c3bc18a347b53",
      "d095da958c4b477dabe7b1e78f0c0fb3",
      "9aa147535a7b4663b990c00e15053722",
      "cc491a0420bc4cce92ec392f0983555e",
      "89fc5050e1fd4e559df37cb5f7dd82ee",
      "cc9e086d519a4c109cd8e8a9505d85fd",
      "64306dc8160a4db6a2156eeb376928b8",
      "e60f35fcbee04b569499fd92f854a802",
      "cd68bb8c06cd4feb9cb9f4c69fd8c480",
      "9baf1ada15cf44d887c29d72a2503723",
      "c87c325732234a5e9347a09ef7297bd3",
      "654e3bf0cb8e47ca84d805353d3a82b7",
      "eb19cb99f43c4498b52f69763e7383a6",
      "83b5945d2e0a4aadae0913a32552c4bf",
      "a8b35ff619544f9b9c2b5718f414e40f",
      "15603bdc35ec42828d480ca6d0e07bf1",
      "e4500823d1904e19ab2414ea52c93d69",
      "111df4219ed04bfb96888d5740f206bc",
      "fee4493182ed4604bb5c68ede571cbbc",
      "5003c6a6c1ca4274ab4c103b807be6b8",
      "86610aad1c7f49dab6da4c7caba62aef",
      "fc0403738831431db77136508baeb48b",
      "d76bc7f385184116bbeb924bda42c4ac",
      "09d76320ee9a4179bb976a6fa143f221",
      "d15235b42971469e83128542c7c757a3",
      "31b03a9312ec40f7913c401434af0157",
      "0a6e66b9c35a47f78dfbff014b53fe8b",
      "b06812f0816241939ad9da335669f62f",
      "03d10801513f43f8987429fe4e7b58e8",
      "63910bc83f65486ebdf58a90dbf22a22",
      "504efa98ee0142429f276a06c80ed5b4",
      "2579aa768b9b47568375fa6d2c2edf7a",
      "f1b49b5d765d4bad813f0ee16a58c1f1",
      "5267f13378bb4b8a849800c114d73d74",
      "df4805bc203d4c3e9947a577c7bfa83e",
      "7b7f90b46e9e43ed9e7b0df16f91980c",
      "d5653f6f59d34571a32b007fae0b522c",
      "3267c3fe248049e7a1f357deeb68133f",
      "9858a3b72d7746d5ad6d5a4b3c894c0b",
      "7c2491c678f94067bd8e8defd67f9e6d",
      "685a0430beae46f3baf0c3ec791f1a9c",
      "de3b193bfd484073a5750b5bf7d96be5",
      "40665e6502434e4b86ada189576120ce",
      "84ab6cd322944f3c928723c8fd3b4fe6",
      "57312d7976fb4d90ba6ca59fc5be23f3",
      "c3de832dd8734b2c9e067e5de831512a",
      "60d687dd8c5947a48ee502a7facf45e6",
      "08775170c8e74ee7829b8e7713bfb3d5",
      "92480bf1738f4e4699c18e13b470a75b",
      "4d7784c07fcf491fa0be322effdb6c5f",
      "794976e82b614270a1bd00976e468ee8",
      "eda24e076a3644418c003fe21a380130",
      "b7ba8642661348b49244ca0273863866",
      "ba8cb38bcd7645c88133f53db61b8415",
      "5678fa67fd9943d5ba1798deda2ba0d8",
      "2c089dac459e4cbab6cca6dc86ee6587",
      "1775e08d3f7e4594a9c5d804ec8df0d8",
      "3540199ee504478aa7f9fffaf4b4e41c",
      "36d8ed21d1614759bc55ba3513193474",
      "2bb02c8665a24f288fc3014e6a7555ad",
      "a06a3746b1964f56896157c912ed9eb1",
      "0d994a7281874a97805ad6cb678f4c39",
      "643814b10a1044f6a60f80d6d6998f90",
      "a88a939859524adda4c298f2ea34687e",
      "52c17a0df71447258b821e87ca85fc94",
      "11297459f1d44926ae51828becabea01",
      "86d51365a6024606ac514be49dfd1858",
      "8b98f4698c564e4b81a4b732b73154c7",
      "7fc064b5ad7540e2a9ae6c8fdf1a0743",
      "edacd8d0e4fb440bb312248778813938",
      "05e1232bf9594fa387619b3dc4d6733d",
      "e66bd46394e942aeb1f260f2bd455dde",
      "ca00f4ae72544b569eda999e64ccfb46",
      "f95cfe9cd08b4088a2f86d60c66e76a4",
      "8bdbdc0f02d044aa8bd58567411815d5",
      "90ade22009dd426fb5db3becc2a28c60",
      "04b303335c824db49b4483a0947d95b5",
      "c171d66cd5274468b19fcd462b4dfb0f",
      "9a9ea86b9ac147cf8ca362df717577d0",
      "0a66afdc9df74c019faaf0f288604d28",
      "0b1fa9e5f3214b39b4eb0cb70f92c802",
      "06c09b24c92048f887efc60b0b4d6430",
      "57946180af364284903358d362526932",
      "90e05ec709194233985c08453be3560b",
      "9c55a93b0b7d463bbb676e5c8978a38f",
      "65f66ac0f66642f984acdc75fbf062fe",
      "c65a9df97a64451db90417e558a7d436",
      "00d1ab22fae0482d861deb1dffebb76b",
      "ac2cb102e6f24766b1bcae3f3172d738",
      "e864540555c0480ea39aee2621e55b9d",
      "4cdb36e75f8745c98287e74a9e0b69c5",
      "1540515c44764b199d32fe87772830b6",
      "0ba2b5a697484d1b87554422de2f0dee",
      "fb7388f0c7b9451e93d2650eae85ccbc",
      "82991d0cced84bcc995246a6d07c85b2",
      "0eddfe5c0f2f438e98584a63b2f6a777",
      "f200d4a4a63844bfa42da37c7659b5ff",
      "8250e26b5c9a49d2b1f54283c1fdaa38",
      "796a7042e1a54843b8b52a34af43e2d4",
      "5c586ea1853c41bbac9cae368627382a",
      "68055b2257d74dc890155e1247807599",
      "52e390f399c8426da5ecca575e4938de",
      "94be7a5e286d48e996ce8b83803f8b3e",
      "f4259bb2f4bd4d7c95ae50de65532156",
      "b7d95d7d4990414cb93675d2db02dd65",
      "841c04f442a741e8abe68b80228cd2a3",
      "29a0645b23064f5ebf361325e18721b5",
      "d186b78f1c514fadb882e768b7b23a62",
      "924a1f82edca48ec99a031ef30561836",
      "2913411c8358416280ae1307f857dcca",
      "01801d87d365465a952a549eeb7dc7db",
      "fe9cda7f525941c38bab9769a659c628",
      "56ce045378c844388ffe048172e4cce8",
      "e2504cfc129f407ab2841d772ecaf533",
      "cca3587fba774c46a7dfec2135cbf9b8",
      "702194b7c1054dbb805b78671a70734a",
      "6d35c45a9b4a45b19fef83e4bb12782e",
      "e137dfca33c14e1abe97086a68f41f6f",
      "8f5fad9db3f94347bad6c5b6ff71dedb",
      "232cb9ce3bac446aa20663e21cdf327b",
      "c9cdc2c745e54739ad854face2e346e2",
      "a7c1f0faf2fe4e00978f6ea958a8f06c",
      "a1c0abcebb2848c3a2fc907af8674564",
      "c9451818d39f4c668f7fdd2e66575131",
      "96555d9e21d54eefb2021ee06b67391c",
      "b6a5b43fb2e44781abe1c6ba65a01ddf",
      "22270a4c29dc4d698a128912726ce0fb",
      "61a5f61718e9468ead5549d216021661",
      "0ebd5872ac564ba18cf7481864a6602e",
      "1325c7f22d6f43da83be62508a3471f5",
      "81275b9d3e0141a18d71a25e354ab7b7",
      "2c6b3e67630a48f688c452ee53e90869",
      "89da8c697c81430f99fc67d8f0fcb10f",
      "5be784847966472aa4ac4da3abc5104e",
      "9958ab8bd9db4dfba135953535cca0fb",
      "f254c4a141004154a92657a19e9233f7",
      "1bcf1575f39641d4915b704a0fce4751",
      "fddeb178dce64b2a95e586d845daf0bf",
      "06105716a63840fa83e74cca175b4008",
      "240404fe436548bea8871da706514da6",
      "168251c39bd440c9a86cf0e4f626efc2",
      "73b10786148b409a88acf665dcb72a9d",
      "fd8e1f5f942042f9a15d6a998b77c3b2",
      "e8b7aa8a52ec4b2f972db0025ae0ccf7",
      "6e9e7fe8f98940feb5748098f37b15be",
      "37333e2dced54c368470e451c4ec9e0b",
      "53a4b8c9fef843f391207ad68fbd2454",
      "c81667c4e6ea4b6f98d55d7d1cc0ecbf",
      "c0d694cb65934923ac149ef81513a360",
      "1cb4307911e34296adbaef23d5918982",
      "926cd4db34874f1eb282f4465256fec3",
      "301094fd46b94f14bd94642d2e454925",
      "1ebc3a0607a54ce7b1d9739fcec56551"
     ]
    },
    "id": "OUmFslQvgI9-",
    "outputId": "1ce57d46-080b-485f-b2a4-e56369289175"
   },
   "outputs": [
    {
     "data": {
      "application/vnd.jupyter.widget-view+json": {
       "model_id": "444749c43e2d46aca9d36681905ac119",
       "version_major": 2,
       "version_minor": 0
      },
      "text/plain": [
       "Processing texts.txt:   0%|          | 0/97 [00:00<?, ?it/s]"
      ]
     },
     "metadata": {},
     "output_type": "display_data"
    },
    {
     "data": {
      "application/vnd.jupyter.widget-view+json": {
       "model_id": "01cd406a7e5440e78759cc7801886839",
       "version_major": 2,
       "version_minor": 0
      },
      "text/plain": [
       "Processing msa: 0it [00:00, ?it/s]"
      ]
     },
     "metadata": {},
     "output_type": "display_data"
    },
    {
     "data": {
      "application/vnd.jupyter.widget-view+json": {
       "model_id": "1872fe5a89e44fe1a515bbdfb26918df",
       "version_major": 2,
       "version_minor": 0
      },
      "text/plain": [
       "Processing aljazeera:   0%|          | 0/2 [00:00<?, ?it/s]"
      ]
     },
     "metadata": {},
     "output_type": "display_data"
    },
    {
     "data": {
      "application/vnd.jupyter.widget-view+json": {
       "model_id": "813139d8fd4b4a47a2db96894b908971",
       "version_major": 2,
       "version_minor": 0
      },
      "text/plain": [
       "Processing sulaity: 0it [00:00, ?it/s]"
      ]
     },
     "metadata": {},
     "output_type": "display_data"
    },
    {
     "data": {
      "application/vnd.jupyter.widget-view+json": {
       "model_id": "c87c325732234a5e9347a09ef7297bd3",
       "version_major": 2,
       "version_minor": 0
      },
      "text/plain": [
       "Processing manual:   0%|          | 0/1 [00:00<?, ?it/s]"
      ]
     },
     "metadata": {},
     "output_type": "display_data"
    },
    {
     "data": {
      "application/vnd.jupyter.widget-view+json": {
       "model_id": "fc0403738831431db77136508baeb48b",
       "version_major": 2,
       "version_minor": 0
      },
      "text/plain": [
       "Processing al-kalema.org:   0%|          | 0/171 [00:00<?, ?it/s]"
      ]
     },
     "metadata": {},
     "output_type": "display_data"
    },
    {
     "data": {
      "application/vnd.jupyter.widget-view+json": {
       "model_id": "f1b49b5d765d4bad813f0ee16a58c1f1",
       "version_major": 2,
       "version_minor": 0
      },
      "text/plain": [
       "Processing كتب حديثة:   0%|          | 0/20 [00:00<?, ?it/s]"
      ]
     },
     "metadata": {},
     "output_type": "display_data"
    },
    {
     "data": {
      "application/vnd.jupyter.widget-view+json": {
       "model_id": "84ab6cd322944f3c928723c8fd3b4fe6",
       "version_major": 2,
       "version_minor": 0
      },
      "text/plain": [
       "Processing منوع:   0%|          | 0/11 [00:00<?, ?it/s]"
      ]
     },
     "metadata": {},
     "output_type": "display_data"
    },
    {
     "data": {
      "application/vnd.jupyter.widget-view+json": {
       "model_id": "5678fa67fd9943d5ba1798deda2ba0d8",
       "version_major": 2,
       "version_minor": 0
      },
      "text/plain": [
       "Processing enfal.de:   0%|          | 0/39 [00:00<?, ?it/s]"
      ]
     },
     "metadata": {},
     "output_type": "display_data"
    },
    {
     "data": {
      "application/vnd.jupyter.widget-view+json": {
       "model_id": "11297459f1d44926ae51828becabea01",
       "version_major": 2,
       "version_minor": 0
      },
      "text/plain": [
       "Processing msa: 0it [00:00, ?it/s]"
      ]
     },
     "metadata": {},
     "output_type": "display_data"
    },
    {
     "data": {
      "application/vnd.jupyter.widget-view+json": {
       "model_id": "04b303335c824db49b4483a0947d95b5",
       "version_major": 2,
       "version_minor": 0
      },
      "text/plain": [
       "Processing aljazeera:   0%|          | 0/2 [00:00<?, ?it/s]"
      ]
     },
     "metadata": {},
     "output_type": "display_data"
    },
    {
     "data": {
      "application/vnd.jupyter.widget-view+json": {
       "model_id": "00d1ab22fae0482d861deb1dffebb76b",
       "version_major": 2,
       "version_minor": 0
      },
      "text/plain": [
       "Processing sulaity: 0it [00:00, ?it/s]"
      ]
     },
     "metadata": {},
     "output_type": "display_data"
    },
    {
     "data": {
      "application/vnd.jupyter.widget-view+json": {
       "model_id": "796a7042e1a54843b8b52a34af43e2d4",
       "version_major": 2,
       "version_minor": 0
      },
      "text/plain": [
       "Processing manual:   0%|          | 0/1 [00:00<?, ?it/s]"
      ]
     },
     "metadata": {},
     "output_type": "display_data"
    },
    {
     "data": {
      "application/vnd.jupyter.widget-view+json": {
       "model_id": "2913411c8358416280ae1307f857dcca",
       "version_major": 2,
       "version_minor": 0
      },
      "text/plain": [
       "Processing al-kalema.org:   0%|          | 0/171 [00:00<?, ?it/s]"
      ]
     },
     "metadata": {},
     "output_type": "display_data"
    },
    {
     "data": {
      "application/vnd.jupyter.widget-view+json": {
       "model_id": "c9cdc2c745e54739ad854face2e346e2",
       "version_major": 2,
       "version_minor": 0
      },
      "text/plain": [
       "Processing كتب حديثة:   0%|          | 0/20 [00:00<?, ?it/s]"
      ]
     },
     "metadata": {},
     "output_type": "display_data"
    },
    {
     "data": {
      "application/vnd.jupyter.widget-view+json": {
       "model_id": "2c6b3e67630a48f688c452ee53e90869",
       "version_major": 2,
       "version_minor": 0
      },
      "text/plain": [
       "Processing منوع:   0%|          | 0/11 [00:00<?, ?it/s]"
      ]
     },
     "metadata": {},
     "output_type": "display_data"
    },
    {
     "data": {
      "application/vnd.jupyter.widget-view+json": {
       "model_id": "fd8e1f5f942042f9a15d6a998b77c3b2",
       "version_major": 2,
       "version_minor": 0
      },
      "text/plain": [
       "Processing enfal.de:   0%|          | 0/39 [00:00<?, ?it/s]"
      ]
     },
     "metadata": {},
     "output_type": "display_data"
    },
    {
     "name": "stdout",
     "output_type": "stream",
     "text": [
      "Total files processed: 585\n",
      "Total samples: 4272504\n",
      "Average diacritized text length: 135.15 characters\n",
      "Average undiacritized text length: 81.53 characters\n",
      "\n",
      "Data Quality Checks:\n",
      "Missing values:\n",
      " diacritized      0\n",
      "undiacritized    0\n",
      "source           0\n",
      "dtype: int64\n",
      "Duplicate samples: 580100\n",
      "Sample diacritized text (first 5):\n",
      "Sample 1: بِسْمِ اللَّهِ الرَّحْمَنِ الرَّحِيمِ الْحَمْدُ لِ...\n",
      "Sample 2: وَأَظْهَرَ شَعَائِرَ الشَّرْعِ وَأَحْكَامَهُ...\n",
      "Sample 3: وَبَعَثَ رُسُلًا وَأَنْبِيَاءَ صَلَوَاتُ اللَّهِ ع...\n",
      "Sample 4: وَأَخْلَفَهُمْ عُلَمَاءَ إلَى سُنَنِ سُنَنِهِمْ دَ...\n",
      "Sample 5: يَسْلُكُونَ فِيمَا لَمْ يُؤْثَرْ عَنْهُمْ مَسْلَكَ...\n"
     ]
    }
   ],
   "source": [
    "dataset_path = \"/content/tashkeela_data/Tashkeela-arabic-diacritized-text-utf8-0.3\"\n",
    "df = create_dataset(dataset_path)"
   ]
  },
  {
   "cell_type": "markdown",
   "metadata": {
    "id": "BZjk7H-NOYUD"
   },
   "source": [
    "# Vocabulary Creation\n",
    "**Function**:\n",
    " create_vocabularies(df)\n",
    "Extracts unique characters and diacritics from the corpus.\n",
    "    \"\"\"\n",
    "    Create character and diacritic vocabularies from the dataset.\n",
    "\n",
    "    Args:\n",
    "        df: DataFrame with 'undiacritized' and 'diacritized' columns\n",
    "\n",
    "    Returns:\n",
    "        char_to_idx: Mapping from characters to indices\n",
    "        diacritic_to_idx: Mapping from diacritics to indices\n",
    "    \"\"\"\n",
    "\n",
    "Adds <PAD>, <UNK>, and <NONE> tokens.\n",
    "\n",
    "**Output**\n",
    "\n",
    "\n",
    "```\n",
    "Character vocabulary size: 142\n",
    "Diacritic vocabulary size: 18\n",
    "```\n",
    "**Notes**\n",
    "Necessary for any token-based model (RNNs, Transformers).\n",
    "\n",
    "Smart separation of character and diacritic vocabularies improves generalization."
   ]
  },
  {
   "cell_type": "code",
   "execution_count": null,
   "metadata": {
    "id": "PuErxZef-SJi"
   },
   "outputs": [],
   "source": [
    "def create_vocabularies(df):\n",
    "\n",
    "    # Create character vocabulary\n",
    "    all_chars = set()\n",
    "    for text in df['undiacritized']:\n",
    "        all_chars.update(text)\n",
    "\n",
    "    # Create diacritic vocabulary\n",
    "    all_diacritics = set()\n",
    "    for text in df['diacritized']:\n",
    "        _, diacritics = separate_chars_and_diacritics(text)\n",
    "        all_diacritics.update(diacritics)\n",
    "\n",
    "    # Add special tokens\n",
    "    char_to_idx = {\n",
    "        '<PAD>': 0,\n",
    "        '<UNK>': 1\n",
    "    }\n",
    "\n",
    "    diacritic_to_idx = {\n",
    "        '<PAD>': 0,\n",
    "        '<NONE>': 1  # No diacritic\n",
    "    }\n",
    "\n",
    "    # Add characters to vocabulary\n",
    "    for i, char in enumerate(sorted(all_chars), start=len(char_to_idx)):\n",
    "        char_to_idx[char] = i\n",
    "\n",
    "    # Add diacritics to vocabulary\n",
    "    for i, diac in enumerate(sorted(all_diacritics), start=len(diacritic_to_idx)):\n",
    "        diacritic_to_idx[diac] = i\n",
    "\n",
    "    # Create inverse mappings\n",
    "    idx_to_char = {idx: char for char, idx in char_to_idx.items()}\n",
    "    idx_to_diacritic = {idx: diac for diac, idx in diacritic_to_idx.items()}\n",
    "\n",
    "    print(f\"Character vocabulary size: {len(char_to_idx)}\")\n",
    "    print(f\"Diacritic vocabulary size: {len(diacritic_to_idx)}\")\n",
    "\n",
    "    return char_to_idx, diacritic_to_idx, idx_to_char, idx_to_diacritic\n",
    "\n",
    "\n"
   ]
  },
  {
   "cell_type": "code",
   "execution_count": null,
   "metadata": {
    "colab": {
     "base_uri": "https://localhost:8080/"
    },
    "id": "VrhYCV7DgGTH",
    "outputId": "2bb92bdb-cfe0-466a-e975-465b22a7e53f"
   },
   "outputs": [
    {
     "name": "stdout",
     "output_type": "stream",
     "text": [
      "Character vocabulary size: 73\n",
      "Diacritic vocabulary size: 199\n"
     ]
    }
   ],
   "source": [
    "char_to_idx, diacritic_to_idx, idx_to_char, idx_to_diacritic = create_vocabularies(df)"
   ]
  },
  {
   "cell_type": "markdown",
   "metadata": {
    "id": "amoDxtOEOr3A"
   },
   "source": [
    "# Dataset Splitting\n",
    "**Function**:\n",
    "\n",
    "split_data(df)\n",
    "  \"\"\"\n",
    "    Split the DataFrame into training, validation, and test sets.\n",
    "\n",
    "    Args:\n",
    "        df: Pandas DataFrame to split.\n",
    "        train_ratio: Proportion of data to use for training (default is 0.8).\n",
    "        val_ratio: Proportion of data to use for validation (default is 0.1).\n",
    "        test_ratio: Proportion of data to use for testing (default is 0.1).\n",
    "\n",
    "    Returns:\n",
    "        train_df: DataFrame containing the training data.\n",
    "        val_df: DataFrame containing the validation data.\n",
    "        test_df: DataFrame containing the test data.\n",
    "    \n",
    "    Notes:\n",
    "        - The input DataFrame is shuffled before splitting.\n",
    "        - The sum of the ratios must equal 1.0.\n",
    "        - Prints the number of samples in each split.\n",
    "    \"\"\"\n",
    "    \n",
    "Splits the dataset into:\n",
    "\n",
    "*80% train*\n",
    "\n",
    "*10% validation*\n",
    "\n",
    "*10% test*\n",
    "\n",
    "**Sample Output**\n",
    "```\n",
    "Train set: 3418003 samples\n",
    "Validation set: 427250 samples\n",
    "Test set: 427251 samples\n",
    "```\n"
   ]
  },
  {
   "cell_type": "code",
   "execution_count": null,
   "metadata": {
    "id": "TEejyK96_Sbw"
   },
   "outputs": [],
   "source": [
    "# Split data into train, validation, and test sets\n",
    "def split_data(df, train_ratio=0.8, val_ratio=0.1, test_ratio=0.1):\n",
    "    assert train_ratio + val_ratio + test_ratio == 1.0, \"Ratios must sum to 1\"\n",
    "\n",
    "    df = df.sample(frac=1, random_state=42).reset_index(drop=True)\n",
    "\n",
    "    n = len(df)\n",
    "    train_end = int(n * train_ratio)\n",
    "    val_end = train_end + int(n * val_ratio)\n",
    "\n",
    "    train_df = df[:train_end]\n",
    "    val_df = df[train_end:val_end]\n",
    "    test_df = df[val_end:]\n",
    "\n",
    "    print(f\"Train set: {len(train_df)} samples\")\n",
    "    print(f\"Validation set: {len(val_df)} samples\")\n",
    "    print(f\"Test set: {len(test_df)} samples\")\n",
    "\n",
    "    return train_df, val_df, test_df\\\n",
    "\n"
   ]
  },
  {
   "cell_type": "code",
   "execution_count": null,
   "metadata": {
    "colab": {
     "base_uri": "https://localhost:8080/"
    },
    "id": "yJ4iEi3egC2X",
    "outputId": "2b7a2978-6fdb-41d8-9086-fb3526065cb7"
   },
   "outputs": [
    {
     "name": "stdout",
     "output_type": "stream",
     "text": [
      "Train set: 3418003 samples\n",
      "Validation set: 427250 samples\n",
      "Test set: 427251 samples\n"
     ]
    }
   ],
   "source": [
    "train_df, val_df, test_df = split_data(df)"
   ]
  },
  {
   "cell_type": "markdown",
   "metadata": {
    "id": "l31Pyjr9PfQb"
   },
   "source": [
    "# ```ArabicDiacritizationDataset``` Implementation\n",
    "\n",
    "- Defines a custom PyTorch Dataset class that takes:\n",
    "\n",
    "- diacritized and undiacritized text,\n",
    "\n",
    "- Converts characters and diacritics to indices using vocab mappings,\n",
    "\n",
    "- Chunks texts into segments of max_len (128),\n",
    "- Batch it to 1024\n",
    "- tokenize it character based tokenization\n",
    "- Pads sequences to uniform length using <PAD>,\n",
    "\n",
    "- Converts them into torch.Tensors.\n",
    "\n",
    "- Then builds DataLoaders for training, validation, and testing.\n",
    "\n",
    "**Sample Output Testing**:\n",
    "```\n",
    "Train samples: 4334012\n",
    "Val samples: 576532\n",
    "Test samples: 537540\n",
    "\n",
    "Sample batch:\n",
    "Input shape: torch.Size([128, 128])\n",
    "Label shape: torch.Size([128, 128])\n",
    "\n",
    "Example 1:\n",
    "Input (undiacritized): كالإجارة والتزويج وا ...\n",
    "Target diacritics (first 10): ['َ', '', 'ْ', 'ِ', 'َ', '', 'َ', 'ِ', '', 'َ'] ...\n",
    "Char-diacritic pairs (first 10):\n",
    "ك: َ\n",
    "ا:\n",
    "ل: ْ\n",
    "إ: ِ\n",
    "ج: َ\n",
    "ا:\n",
    "ر: َ\n",
    "ة: ِ\n",
    " :\n",
    "و: َ\n",
    "\n",
    "Example 2:\n",
    "Input (undiacritized): فأنى يكون الشافعي به ...\n",
    "Target diacritics (first 10): ['َ', 'َ', 'َّ', '', '', 'َ', 'ُ', '', 'ُ', ''] ...\n",
    "Char-diacritic pairs (first 10):\n",
    "ف: َ\n",
    "أ: َ\n",
    "ن: َّ\n",
    "ى:\n",
    " :\n",
    "ي: َ\n",
    "ك: ُ\n",
    "و:\n",
    "ن: ُ\n",
    "```"
   ]
  },
  {
   "cell_type": "code",
   "execution_count": null,
   "metadata": {
    "id": "hkkC9bEr-Pxf"
   },
   "outputs": [],
   "source": [
    "from torch.utils.data import Dataset, DataLoader\n",
    "from tqdm import tqdm\n",
    "import torch\n",
    "\n",
    "class ArabicDiacritizationDataset(Dataset):\n",
    "    def __init__(self, data, char_to_idx, diacritic_to_idx, max_len=128):\n",
    "        self.samples = []\n",
    "        self.char_to_idx = char_to_idx\n",
    "        self.diacritic_to_idx = diacritic_to_idx\n",
    "        self.max_len = max_len\n",
    "\n",
    "        for _, row in tqdm(data.iterrows(), total=len(data), desc=\"Processing dataset\"):\n",
    "            diacritized = row['diacritized']\n",
    "            undiacritized = row['undiacritized']\n",
    "            _, diacritics = separate_chars_and_diacritics(diacritized)\n",
    "            chars = list(undiacritized)\n",
    "\n",
    "            for i in range(0, len(chars), max_len):\n",
    "                char_chunk = chars[i:i + max_len]\n",
    "                diacritic_chunk = diacritics[i:i + max_len]\n",
    "\n",
    "                char_indices = [char_to_idx.get(c, char_to_idx['<UNK>']) for c in char_chunk]\n",
    "                diacritic_indices = [diacritic_to_idx.get(d, diacritic_to_idx['<NONE>']) for d in diacritic_chunk]\n",
    "\n",
    "                pad_len = max_len - len(char_indices)\n",
    "                char_indices += [char_to_idx['<PAD>']] * pad_len\n",
    "                diacritic_indices += [diacritic_to_idx['<PAD>']] * pad_len\n",
    "\n",
    "                self.samples.append({\n",
    "                    'input_ids': torch.tensor(char_indices, dtype=torch.long),\n",
    "                    'labels': torch.tensor(diacritic_indices, dtype=torch.long),\n",
    "                    'text': ''.join(char_chunk)\n",
    "                })\n",
    "\n",
    "    def __len__(self):\n",
    "        return len(self.samples)\n",
    "\n",
    "    def __getitem__(self, idx):\n",
    "        return self.samples[idx]\n"
   ]
  },
  {
   "cell_type": "code",
   "execution_count": null,
   "metadata": {
    "colab": {
     "base_uri": "https://localhost:8080/"
    },
    "id": "CuhGOJEDfttr",
    "outputId": "d6232a8d-f606-4f27-e316-5f232e74fefb"
   },
   "outputs": [
    {
     "name": "stderr",
     "output_type": "stream",
     "text": [
      "Processing dataset: 100%|██████████| 427251/427251 [01:31<00:00, 4690.28it/s]"
     ]
    },
    {
     "name": "stdout",
     "output_type": "stream",
     "text": [
      "Test samples: 538992\n"
     ]
    },
    {
     "name": "stderr",
     "output_type": "stream",
     "text": [
      "\n"
     ]
    }
   ],
   "source": [
    "max_len = 128\n",
    "batch_size = 512\n",
    "\n",
    "# train_dataset = ArabicDiacritizationDataset(train_df, char_to_idx, diacritic_to_idx, max_len=max_len)\n",
    "# val_dataset = ArabicDiacritizationDataset(val_df, char_to_idx, diacritic_to_idx, max_len=max_len)\n",
    "test_dataset = ArabicDiacritizationDataset(test_df, char_to_idx, diacritic_to_idx, max_len=max_len)\n",
    "\n",
    "# train_loader = DataLoader(train_dataset, batch_size=batch_size, shuffle=True)\n",
    "# val_loader = DataLoader(val_dataset, batch_size=batch_size)\n",
    "test_loader = DataLoader(test_dataset, batch_size=batch_size)\n",
    "\n",
    "# print(f\"Train samples: {len(train_dataset)}\")\n",
    "# print(f\"Val samples: {len(val_dataset)}\")\n",
    "print(f\"Test samples: {len(test_dataset)}\")\n"
   ]
  },
  {
   "cell_type": "markdown",
   "metadata": {
    "id": "BY4oN5ExQTgg"
   },
   "source": [
    "\n",
    "\n",
    "# Diacritization Quality Analysis\n",
    "\n",
    "**This function**:\n",
    "\n",
    "\n",
    "Randomly samples from the DataFrame (up to 100k rows),\n",
    "\n",
    "Computes the diacritization rate: the ratio of characters with any diacritic over total Arabic characters,\n",
    "\n",
    "Counts occurrences of different diacritic types,\n",
    "  \"\"\"\n",
    "    Analyze the quality of diacritization in a given DataFrame.\n",
    "\n",
    "    Args:\n",
    "        df: DataFrame containing a 'diacritized' column with Arabic text.\n",
    "        sample_size: Maximum number of samples to analyze (default is 100,000).\n",
    "\n",
    "    Returns:\n",
    "        avg_rate: Average diacritization rate across sampled texts.\n",
    "        diacritic_types: Counter of different diacritic types found in the dataset.\n",
    "\n",
    "    Notes:\n",
    "        - Calculates the proportion of Arabic characters that are diacritized.\n",
    "        - Visualizes the distribution of diacritization rates and diacritic types.\n",
    "        - Uses helper functions `separate_chars_and_diacritics` and `is_arabic_char`.\n",
    "    \"\"\"\n",
    "\n",
    "**Output:**\n",
    "\n",
    "```\n",
    "Analyzing diacritization quality in training data...\n",
    "Average diacritization rate: 77.91%\n",
    "Min diacritization rate: 0.00%\n",
    "Max diacritization rate: 100.00%\n",
    "\n",
    "```\n",
    "\n",
    "# Plots:\n",
    "\n",
    "**A histogram of diacritization rates,:**\n",
    "\n",
    "![image.png](data:image/png;base64,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)\n",
    "\n",
    "**A bar chart showing diacritic type distribution.**\n",
    "**bold text**![image.png](data:image/png;base64,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)"
   ]
  },
  {
   "cell_type": "code",
   "execution_count": null,
   "metadata": {
    "colab": {
     "base_uri": "https://localhost:8080/"
    },
    "collapsed": true,
    "id": "V5sPKr-3-Wzj",
    "outputId": "4cef459a-c790-4039-cdf2-1970b9296849"
   },
   "outputs": [
    {
     "name": "stdout",
     "output_type": "stream",
     "text": [
      "\n",
      "Analyzing diacritization quality in training data...\n",
      "Average diacritization rate: 77.91%\n",
      "Min diacritization rate: 0.00%\n",
      "Max diacritization rate: 100.00%\n"
     ]
    },
    {
     "data": {
      "image/png": "[encoded data removed]",
      "text/plain": [
       "<Figure size 1000x600 with 1 Axes>"
      ]
     },
     "metadata": {},
     "output_type": "display_data"
    },
    {
     "data": {
      "image/png": "[encoded data removed]",
      "text/plain": [
       "<Figure size 1200x600 with 1 Axes>"
      ]
     },
     "metadata": {},
     "output_type": "display_data"
    }
   ],
   "source": [
    "def analyze_diacritization_quality(df, sample_size=100000):\n",
    "    if len(df) > sample_size:\n",
    "        sample_df = df.sample(sample_size, random_state=42)\n",
    "    else:\n",
    "        sample_df = df\n",
    "\n",
    "    diacritization_rates = []\n",
    "    diacritic_types = Counter()\n",
    "\n",
    "    for text in sample_df['diacritized']:\n",
    "        chars, diacritics = separate_chars_and_diacritics(text)\n",
    "\n",
    "        arabic_chars = sum(1 for c in chars if is_arabic_char(c))\n",
    "        diacritized_chars = sum(1 for d in diacritics if d)\n",
    "\n",
    "        if arabic_chars > 0:\n",
    "            rate = diacritized_chars / arabic_chars\n",
    "            diacritization_rates.append(rate)\n",
    "\n",
    "        for diac in diacritics:\n",
    "            for d in diac:\n",
    "                if d in ARABIC_DIACRITICS:\n",
    "                    diacritic_types[ARABIC_DIACRITICS[d]] += 1\n",
    "\n",
    "    avg_rate = np.mean(diacritization_rates)\n",
    "    print(f\"Average diacritization rate: {avg_rate:.2%}\")\n",
    "    print(f\"Min diacritization rate: {min(diacritization_rates):.2%}\")\n",
    "    print(f\"Max diacritization rate: {max(diacritization_rates):.2%}\")\n",
    "\n",
    "    plt.figure(figsize=(10, 6))\n",
    "    plt.hist(diacritization_rates, bins=20)\n",
    "    plt.title('Distribution of Diacritization Rates')\n",
    "    plt.xlabel('Diacritization Rate')\n",
    "    plt.ylabel('Frequency')\n",
    "    plt.grid(True, alpha=0.3)\n",
    "    plt.show()\n",
    "\n",
    "    plt.figure(figsize=(12, 6))\n",
    "    sns.barplot(x=list(diacritic_types.keys()), y=list(diacritic_types.values()))\n",
    "    plt.title('Distribution of Diacritic Types')\n",
    "    plt.xlabel('Diacritic Type')\n",
    "    plt.ylabel('Count')\n",
    "    plt.xticks(rotation=45, ha='right')\n",
    "    plt.tight_layout()\n",
    "    plt.show()\n",
    "\n",
    "    return avg_rate, diacritic_types\n",
    "\n",
    "# Analyze the training data\n",
    "print(\"\\nAnalyzing diacritization quality in training data...\")\n",
    "avg_rate, diacritic_types = analyze_diacritization_quality(train_df)"
   ]
  },
  {
   "cell_type": "markdown",
   "metadata": {
    "id": "TnN3llXqR4rV"
   },
   "source": [
    "# BiLSTM-Based Arabic Diacritization Model with Attention\n",
    "\n",
    " defines a deep BiLSTM model with self-attention for the Arabic diacritization task. Here's a breakdown:\n",
    "\n",
    "- Embedding Layer: Converts character indices to dense vectors.\n",
    "\n",
    "- BiLSTM Layer: Captures bidirectional sequential dependencies (forward and backward context).\n",
    "\n",
    "- Self-Attention: Helps the model focus on relevant parts of the input for each token.\n",
    "\n",
    "- Layer Normalization + Residuals: Stabilizes and enhances learning.\n",
    "\n",
    "- Feedforward Network (FFN): Projects LSTM outputs to diacritic label logits.\n",
    "\n",
    "- Dropout: Prevents overfitting.\n",
    "\n",
    "This architecture combines RNNs for sequence modeling and attention for contextual refinement, offering a powerful structure for character-level diacritization."
   ]
  },
  {
   "cell_type": "code",
   "execution_count": null,
   "metadata": {
    "id": "oPsTuufaafEo"
   },
   "outputs": [],
   "source": [
    "\n",
    "\n",
    "class BiLSTMDiacritizationModel(nn.Module):\n",
    "    def __init__(self, vocab_size, diacritic_size, embedding_dim=256, hidden_dim=768,\n",
    "                 num_layers=4, dropout=0.3, num_heads=8):\n",
    "        super(BiLSTMDiacritizationModel, self).__init__()\n",
    "\n",
    "        self.embedding = nn.Embedding(vocab_size, embedding_dim)\n",
    "\n",
    "        self.lstm = nn.LSTM(\n",
    "            input_size=embedding_dim,\n",
    "            hidden_size=hidden_dim,\n",
    "            num_layers=num_layers,\n",
    "            bidirectional=True,\n",
    "            dropout=dropout if num_layers > 1 else 0,\n",
    "            batch_first=True\n",
    "        )\n",
    "\n",
    "        self.attention = nn.MultiheadAttention(embed_dim=hidden_dim * 2, num_heads=num_heads, dropout=dropout, batch_first=True)\n",
    "        self.norm = nn.LayerNorm(hidden_dim * 2)\n",
    "\n",
    "        self.ffn = nn.Sequential(\n",
    "            nn.Linear(hidden_dim * 2, hidden_dim),\n",
    "            nn.ReLU(),\n",
    "            nn.Dropout(dropout),\n",
    "            nn.Linear(hidden_dim, hidden_dim // 2),\n",
    "            nn.ReLU(),\n",
    "            nn.Dropout(dropout),\n",
    "            nn.Linear(hidden_dim // 2, diacritic_size)\n",
    "        )\n",
    "\n",
    "        self.dropout = nn.Dropout(dropout)\n",
    "\n",
    "    def forward(self, x):\n",
    "        embedded = self.dropout(self.embedding(x))  # [batch_size, seq_len, embedding_dim]\n",
    "\n",
    "        lstm_out, _ = self.lstm(embedded)  # [batch_size, seq_len, hidden_dim * 2]\n",
    "\n",
    "        attn_output, _ = self.attention(lstm_out, lstm_out, lstm_out)  # Self-attention\n",
    "        attn_output = self.norm(attn_output + lstm_out)  # Residual + LayerNorm\n",
    "\n",
    "        logits = self.ffn(self.dropout(attn_output))  # [batch_size, seq_len, diacritic_size]\n",
    "\n",
    "        return logits\n"
   ]
  },
  {
   "cell_type": "markdown",
   "metadata": {
    "id": "s6sazYouujkN"
   },
   "source": [
    "# Visualized BiLSTM  Architecture"
   ]
  },
  {
   "cell_type": "code",
   "execution_count": null,
   "metadata": {
    "id": "SsShiJbguoNe"
   },
   "outputs": [],
   "source": [
    "\n",
    "\n",
    "model = BiLSTMDiacritizationModel()\n",
    "model.eval()\n",
    "\n",
    "dummy_input = torch.randint(0, 73, (1, 50))  # [batch_size=1, seq_len=50]\n",
    "\n",
    "torch.onnx.export(\n",
    "    model,\n",
    "    dummy_input,\n",
    "    \"bilstm_diacritization.onnx\",\n",
    "    input_names=[\"input\"],\n",
    "    output_names=[\"output\"],\n",
    "    dynamic_axes={\n",
    "        \"input\": {512: \"batch_size\", 100: \"seq_len\"},\n",
    "        \"output\": {512: \"batch_size\", 100: \"seq_len\"}\n",
    "    },\n",
    "    opset_version=13\n",
    ")\n",
    "\n",
    "print(\"Model exported to bilstm_diacritization.onnx. Upload to https://netron.app/ for visualization.\")"
   ]
  },
  {
   "cell_type": "markdown",
   "metadata": {
    "id": "CZ4a-jTOSWiy"
   },
   "source": [
    "# Model Initialization and Device Configuration\n",
    "\n",
    "Detects and uses GPU if available, otherwise defaults to CPU.\n",
    "\n",
    "Initializes both the BiLSTM and Transformer models using the vocabulary and diacritic space sizes.\n",
    "\n",
    "Reports the number of trainable parameters in each model.\n",
    "\n",
    "This setup ensures both models are ready for training and comparison under a unified pipeline. The BiLSTM model will be trained first, followed by the Transformer if needed.\n",
    "Using device: cuda\n",
    "\n",
    "```Using device: cuda```\n",
    "\n",
    "```Initializing models with vocab_size=73, diacritic_size=199```"
   ]
  },
  {
   "cell_type": "code",
   "execution_count": null,
   "metadata": {
    "colab": {
     "base_uri": "https://localhost:8080/"
    },
    "id": "_UONULlcPQFX",
    "outputId": "6adaa3ad-1245-4d7e-d778-21c9206e6847"
   },
   "outputs": [
    {
     "name": "stdout",
     "output_type": "stream",
     "text": [
      "Using device: cuda\n",
      "\n",
      "Initializing models with vocab_size=73, diacritic_size=199\n"
     ]
    }
   ],
   "source": [
    "\n",
    "device = torch.device('cuda' if torch.cuda.is_available() else 'cpu')\n",
    "print(f\"Using device: {device}\")\n",
    "vocab_size = len(char_to_idx)\n",
    "diacritic_size = len(diacritic_to_idx)\n",
    "\n",
    "print(f\"\\nInitializing models with vocab_size={vocab_size}, diacritic_size={diacritic_size}\")\n",
    "\n",
    "# BiLSTM model\n",
    "bilstm_model = BiLSTMDiacritizationModel(\n",
    "    vocab_size=vocab_size,\n",
    "    diacritic_size=diacritic_size,\n",
    "    embedding_dim=256,\n",
    "    hidden_dim=512,\n",
    "    num_layers=4,\n",
    "    dropout=0.3\n",
    ").to(device)\n"
   ]
  },
  {
   "cell_type": "markdown",
   "metadata": {
    "id": "FNdidXZMS-9D"
   },
   "source": [
    "# Training and Evaluation for BiLSTM Model\n",
    "\n",
    "### BiLSTM Training and Evaluation\n",
    "\n",
    "This section defines the training and evaluation process for the BiLSTM model. It uses 30% of the dataset due to compute limitations and runs for `7` epochs. The process includes loss tracking, accuracy measurement, and model checkpointing based on validation performance.\n",
    "\n",
    "- Loss Function: CrossEntropyLoss (with padding ignored)  \n",
    "- Optimizer: Adam  \n",
    "- Epochs: 15 but with early stopping training stpoed in 7th epoch and the best accuracy acchived in 2th epoch\n",
    "- Training Accuracy: 96.82%  \n",
    "- Validation Accuracy: 97.24%   \n",
    "\n",
    "Next, the model will be tested on real test data.\n"
   ]
  },
  {
   "cell_type": "code",
   "execution_count": null,
   "metadata": {
    "colab": {
     "base_uri": "https://localhost:8080/",
     "height": 384
    },
    "collapsed": true,
    "id": "eErWnDoMhc4l",
    "outputId": "55e01303-53f2-4437-b8ba-bf23d278dd06"
   },
   "outputs": [
    {
     "name": "stdout",
     "output_type": "stream",
     "text": [
      "\n",
      "Training BiLSTM model...\n"
     ]
    },
    {
     "name": "stderr",
     "output_type": "stream",
     "text": [
      "Processing dataset: 100%|██████████| 1025400/1025400 [03:52<00:00, 4405.67it/s]\n",
      "Processing dataset: 100%|██████████| 128175/128175 [00:28<00:00, 4560.91it/s]\n",
      "Epoch 1/2 - Training:   1%|          | 183/22619 [00:09<20:15, 18.45it/s]\n"
     ]
    },
    {
     "ename": "KeyboardInterrupt",
     "evalue": "",
     "output_type": "error",
     "traceback": [
      "\u001b[0;31m---------------------------------------------------------------------------\u001b[0m",
      "\u001b[0;31mKeyboardInterrupt\u001b[0m                         Traceback (most recent call last)",
      "\u001b[0;32m<ipython-input-28-8e6b2bf1093b>\u001b[0m in \u001b[0;36m<cell line: 0>\u001b[0;34m()\u001b[0m\n\u001b[1;32m    111\u001b[0m \u001b[0;34m\u001b[0m\u001b[0m\n\u001b[1;32m    112\u001b[0m \u001b[0;34m\u001b[0m\u001b[0m\n\u001b[0;32m--> 113\u001b[0;31m \u001b[0mhistory\u001b[0m \u001b[0;34m=\u001b[0m \u001b[0mtrain_model\u001b[0m\u001b[0;34m(\u001b[0m\u001b[0mbilstm_model\u001b[0m\u001b[0;34m,\u001b[0m \u001b[0mtrain_loader_subset\u001b[0m\u001b[0;34m,\u001b[0m \u001b[0mval_loader_subset\u001b[0m\u001b[0;34m,\u001b[0m \u001b[0mcriterion\u001b[0m\u001b[0;34m,\u001b[0m \u001b[0moptimizer\u001b[0m\u001b[0;34m,\u001b[0m \u001b[0mnum_epochs\u001b[0m\u001b[0;34m=\u001b[0m\u001b[0;36m2\u001b[0m\u001b[0;34m)\u001b[0m\u001b[0;34m\u001b[0m\u001b[0;34m\u001b[0m\u001b[0m\n\u001b[0m",
      "\u001b[0;32m<ipython-input-28-8e6b2bf1093b>\u001b[0m in \u001b[0;36mtrain_model\u001b[0;34m(model, train_loader, val_loader, criterion, optimizer, num_epochs)\u001b[0m\n\u001b[1;32m     22\u001b[0m             \u001b[0moptimizer\u001b[0m\u001b[0;34m.\u001b[0m\u001b[0mstep\u001b[0m\u001b[0;34m(\u001b[0m\u001b[0;34m)\u001b[0m\u001b[0;34m\u001b[0m\u001b[0;34m\u001b[0m\u001b[0m\n\u001b[1;32m     23\u001b[0m \u001b[0;34m\u001b[0m\u001b[0m\n\u001b[0;32m---> 24\u001b[0;31m             \u001b[0mtrain_loss\u001b[0m \u001b[0;34m+=\u001b[0m \u001b[0mloss\u001b[0m\u001b[0;34m.\u001b[0m\u001b[0mitem\u001b[0m\u001b[0;34m(\u001b[0m\u001b[0;34m)\u001b[0m\u001b[0;34m\u001b[0m\u001b[0;34m\u001b[0m\u001b[0m\n\u001b[0m\u001b[1;32m     25\u001b[0m             \u001b[0mmask\u001b[0m \u001b[0;34m=\u001b[0m \u001b[0mlabels\u001b[0m \u001b[0;34m!=\u001b[0m \u001b[0mdiacritic_to_idx\u001b[0m\u001b[0;34m[\u001b[0m\u001b[0;34m'<PAD>'\u001b[0m\u001b[0;34m]\u001b[0m\u001b[0;34m\u001b[0m\u001b[0;34m\u001b[0m\u001b[0m\n\u001b[1;32m     26\u001b[0m             \u001b[0mpreds\u001b[0m \u001b[0;34m=\u001b[0m \u001b[0moutputs\u001b[0m\u001b[0;34m.\u001b[0m\u001b[0margmax\u001b[0m\u001b[0;34m(\u001b[0m\u001b[0mdim\u001b[0m\u001b[0;34m=\u001b[0m\u001b[0;34m-\u001b[0m\u001b[0;36m1\u001b[0m\u001b[0;34m)\u001b[0m\u001b[0;34m\u001b[0m\u001b[0;34m\u001b[0m\u001b[0m\n",
      "\u001b[0;31mKeyboardInterrupt\u001b[0m: "
     ]
    }
   ],
   "source": [
    "def train_model(model, train_loader, val_loader, criterion, optimizer, num_epochs=10):\n",
    "    best_val_loss = float('inf')\n",
    "    history = {'train_loss': [], 'val_loss': [], 'train_acc': [], 'val_acc': []}\n",
    "\n",
    "    best_model_path = '/content/drive/MyDrive/best_bilstm_model.pt'\n",
    "\n",
    "    for epoch in range(num_epochs):\n",
    "        model.train()\n",
    "        train_loss = 0.0\n",
    "        train_correct = 0\n",
    "        train_total = 0\n",
    "\n",
    "        for batch in tqdm(train_loader, desc=f\"Epoch {epoch+1}/{num_epochs} - Training\"):\n",
    "            inputs = batch['input_ids'].to(device)\n",
    "            labels = batch['labels'].to(device)\n",
    "\n",
    "            optimizer.zero_grad()\n",
    "            outputs = model(inputs)\n",
    "            loss = criterion(outputs.transpose(1, 2), labels)\n",
    "            loss.backward()\n",
    "            optimizer.step()\n",
    "\n",
    "            train_loss += loss.item()\n",
    "            mask = labels != diacritic_to_idx['<PAD>']\n",
    "            preds = outputs.argmax(dim=-1)\n",
    "            train_correct += ((preds == labels) & mask).sum().item()\n",
    "            train_total += mask.sum().item()\n",
    "\n",
    "        train_loss /= len(train_loader)\n",
    "        train_acc = train_correct / train_total if train_total > 0 else 0\n",
    "\n",
    "        # Validation\n",
    "        model.eval()\n",
    "        val_loss = 0.0\n",
    "        val_correct = 0\n",
    "        val_total = 0\n",
    "\n",
    "        with torch.no_grad():\n",
    "            for batch in tqdm(val_loader, desc=f\"Epoch {epoch+1}/{num_epochs} - Validation\"):\n",
    "                inputs = batch['input_ids'].to(device)\n",
    "                labels = batch['labels'].to(device)\n",
    "\n",
    "                outputs = model(inputs)\n",
    "                loss = criterion(outputs.transpose(1, 2), labels)\n",
    "                val_loss += loss.item()\n",
    "\n",
    "                mask = labels != diacritic_to_idx['<PAD>']\n",
    "                preds = outputs.argmax(dim=-1)\n",
    "                val_correct += ((preds == labels) & mask).sum().item()\n",
    "                val_total += mask.sum().item()\n",
    "\n",
    "        val_loss /= len(val_loader)\n",
    "        val_acc = val_correct / val_total if val_total > 0 else 0\n",
    "\n",
    "        history['train_loss'].append(train_loss)\n",
    "        history['val_loss'].append(val_loss)\n",
    "        history['train_acc'].append(train_acc)\n",
    "        history['val_acc'].append(val_acc)\n",
    "\n",
    "        print(f\"\\nEpoch {epoch+1}/{num_epochs}:\")\n",
    "        print(f\"Train Loss: {train_loss:.4f}, Train Acc: {train_acc:.2%}\")\n",
    "        print(f\"Val Loss: {val_loss:.4f}, Val Acc: {val_acc:.2%}\")\n",
    "\n",
    "        if val_loss < best_val_loss:\n",
    "            best_val_loss = val_loss\n",
    "            torch.save(model.state_dict(), best_model_path)\n",
    "            print(f\"Saved best model to: {best_model_path}\")\n",
    "\n",
    "    # Plot training history\n",
    "    plt.figure(figsize=(12, 5))\n",
    "\n",
    "    plt.subplot(1, 2, 1)\n",
    "    plt.plot(history['train_loss'], label='Train Loss')\n",
    "    plt.plot(history['val_loss'], label='Val Loss')\n",
    "    plt.title('Training and Validation Loss')\n",
    "    plt.xlabel('Epoch')\n",
    "    plt.ylabel('Loss')\n",
    "    plt.legend()\n",
    "    plt.grid(True)\n",
    "\n",
    "    plt.subplot(1, 2, 2)\n",
    "    plt.plot(history['train_acc'], label='Train Acc')\n",
    "    plt.plot(history['val_acc'], label='Val Acc')\n",
    "    plt.title('Training and Validation Accuracy')\n",
    "    plt.xlabel('Epoch')\n",
    "    plt.ylabel('Accuracy')\n",
    "    plt.legend()\n",
    "    plt.grid(True)\n",
    "\n",
    "    plt.tight_layout()\n",
    "    plt.show()\n",
    "\n",
    "    return history"
   ]
  },
  {
   "cell_type": "code",
   "execution_count": null,
   "metadata": {
    "colab": {
     "base_uri": "https://localhost:8080/",
     "height": 859
    },
    "collapsed": true,
    "id": "fWYDIs34Q0US",
    "outputId": "8f4bd377-2dc5-4ac6-cdf6-d89e1c9632a5"
   },
   "outputs": [
    {
     "name": "stderr",
     "output_type": "stream",
     "text": [
      "Epoch 1/15 - Training: 100%|██████████| 22619/22619 [16:43<00:00, 22.55it/s]\n",
      "Epoch 1/15 - Validation: 100%|██████████| 2778/2778 [00:50<00:00, 55.19it/s]\n"
     ]
    },
    {
     "name": "stdout",
     "output_type": "stream",
     "text": [
      "\n",
      "Epoch 1/15:\n",
      "Train Loss: 0.1232, Train Acc: 96.14%\n",
      "Val Loss: 0.0896, Val Acc: 97.13%\n",
      "Saved best model to: /content/drive/MyDrive/best_bilstm_model.pt\n"
     ]
    },
    {
     "name": "stderr",
     "output_type": "stream",
     "text": [
      "Epoch 2/15 - Training: 100%|██████████| 22619/22619 [16:43<00:00, 22.53it/s]\n",
      "Epoch 2/15 - Validation: 100%|██████████| 2778/2778 [00:50<00:00, 55.11it/s]\n"
     ]
    },
    {
     "name": "stdout",
     "output_type": "stream",
     "text": [
      "\n",
      "Epoch 2/15:\n",
      "Train Loss: 0.0994, Train Acc: 96.82%\n",
      "Val Loss: 0.0858, Val Acc: 97.24%\n",
      "Saved best model to: /content/drive/MyDrive/best_bilstm_model.pt\n"
     ]
    },
    {
     "name": "stderr",
     "output_type": "stream",
     "text": [
      "Epoch 3/15 - Training: 100%|██████████| 22619/22619 [16:44<00:00, 22.51it/s]\n",
      "Epoch 3/15 - Validation: 100%|██████████| 2778/2778 [00:50<00:00, 55.38it/s]\n"
     ]
    },
    {
     "name": "stdout",
     "output_type": "stream",
     "text": [
      "\n",
      "Epoch 3/15:\n",
      "Train Loss: 0.0986, Train Acc: 96.84%\n",
      "Val Loss: 0.0864, Val Acc: 97.24%\n"
     ]
    },
    {
     "name": "stderr",
     "output_type": "stream",
     "text": [
      "Epoch 4/15 - Training: 100%|██████████| 22619/22619 [16:43<00:00, 22.53it/s]\n",
      "Epoch 4/15 - Validation: 100%|██████████| 2778/2778 [00:50<00:00, 55.07it/s]\n"
     ]
    },
    {
     "name": "stdout",
     "output_type": "stream",
     "text": [
      "\n",
      "Epoch 4/15:\n",
      "Train Loss: 0.0998, Train Acc: 96.79%\n",
      "Val Loss: 0.0868, Val Acc: 97.19%\n"
     ]
    },
    {
     "name": "stderr",
     "output_type": "stream",
     "text": [
      "Epoch 5/15 - Training: 100%|██████████| 22619/22619 [16:43<00:00, 22.54it/s]\n",
      "Epoch 5/15 - Validation: 100%|██████████| 2778/2778 [00:50<00:00, 55.26it/s]\n"
     ]
    },
    {
     "name": "stdout",
     "output_type": "stream",
     "text": [
      "\n",
      "Epoch 5/15:\n",
      "Train Loss: 0.1013, Train Acc: 96.73%\n",
      "Val Loss: 0.0868, Val Acc: 97.17%\n"
     ]
    },
    {
     "name": "stderr",
     "output_type": "stream",
     "text": [
      "Epoch 6/15 - Training:  32%|███▏      | 7168/22619 [05:20<11:30, 22.39it/s]\n"
     ]
    },
    {
     "ename": "KeyboardInterrupt",
     "evalue": "",
     "output_type": "error",
     "traceback": [
      "\u001b[0;31m---------------------------------------------------------------------------\u001b[0m",
      "\u001b[0;31mKeyboardInterrupt\u001b[0m                         Traceback (most recent call last)",
      "\u001b[0;32m<ipython-input-29-7b0cc068c22e>\u001b[0m in \u001b[0;36m<cell line: 0>\u001b[0;34m()\u001b[0m\n\u001b[0;32m----> 1\u001b[0;31m \u001b[0mhistory\u001b[0m \u001b[0;34m=\u001b[0m \u001b[0mtrain_model\u001b[0m\u001b[0;34m(\u001b[0m\u001b[0mbilstm_model\u001b[0m\u001b[0;34m,\u001b[0m \u001b[0mtrain_loader_subset\u001b[0m\u001b[0;34m,\u001b[0m \u001b[0mval_loader_subset\u001b[0m\u001b[0;34m,\u001b[0m \u001b[0mcriterion\u001b[0m\u001b[0;34m,\u001b[0m \u001b[0moptimizer\u001b[0m\u001b[0;34m,\u001b[0m \u001b[0mnum_epochs\u001b[0m\u001b[0;34m=\u001b[0m\u001b[0;36m15\u001b[0m\u001b[0;34m)\u001b[0m\u001b[0;34m\u001b[0m\u001b[0;34m\u001b[0m\u001b[0m\n\u001b[0m",
      "\u001b[0;32m<ipython-input-28-8e6b2bf1093b>\u001b[0m in \u001b[0;36mtrain_model\u001b[0;34m(model, train_loader, val_loader, criterion, optimizer, num_epochs)\u001b[0m\n\u001b[1;32m     19\u001b[0m             \u001b[0moutputs\u001b[0m \u001b[0;34m=\u001b[0m \u001b[0mmodel\u001b[0m\u001b[0;34m(\u001b[0m\u001b[0minputs\u001b[0m\u001b[0;34m)\u001b[0m\u001b[0;34m\u001b[0m\u001b[0;34m\u001b[0m\u001b[0m\n\u001b[1;32m     20\u001b[0m             \u001b[0mloss\u001b[0m \u001b[0;34m=\u001b[0m \u001b[0mcriterion\u001b[0m\u001b[0;34m(\u001b[0m\u001b[0moutputs\u001b[0m\u001b[0;34m.\u001b[0m\u001b[0mtranspose\u001b[0m\u001b[0;34m(\u001b[0m\u001b[0;36m1\u001b[0m\u001b[0;34m,\u001b[0m \u001b[0;36m2\u001b[0m\u001b[0;34m)\u001b[0m\u001b[0;34m,\u001b[0m \u001b[0mlabels\u001b[0m\u001b[0;34m)\u001b[0m\u001b[0;34m\u001b[0m\u001b[0;34m\u001b[0m\u001b[0m\n\u001b[0;32m---> 21\u001b[0;31m             \u001b[0mloss\u001b[0m\u001b[0;34m.\u001b[0m\u001b[0mbackward\u001b[0m\u001b[0;34m(\u001b[0m\u001b[0;34m)\u001b[0m\u001b[0;34m\u001b[0m\u001b[0;34m\u001b[0m\u001b[0m\n\u001b[0m\u001b[1;32m     22\u001b[0m             \u001b[0moptimizer\u001b[0m\u001b[0;34m.\u001b[0m\u001b[0mstep\u001b[0m\u001b[0;34m(\u001b[0m\u001b[0;34m)\u001b[0m\u001b[0;34m\u001b[0m\u001b[0;34m\u001b[0m\u001b[0m\n\u001b[1;32m     23\u001b[0m \u001b[0;34m\u001b[0m\u001b[0m\n",
      "\u001b[0;32m/usr/local/lib/python3.11/dist-packages/torch/_tensor.py\u001b[0m in \u001b[0;36mbackward\u001b[0;34m(self, gradient, retain_graph, create_graph, inputs)\u001b[0m\n\u001b[1;32m    624\u001b[0m                 \u001b[0minputs\u001b[0m\u001b[0;34m=\u001b[0m\u001b[0minputs\u001b[0m\u001b[0;34m,\u001b[0m\u001b[0;34m\u001b[0m\u001b[0;34m\u001b[0m\u001b[0m\n\u001b[1;32m    625\u001b[0m             )\n\u001b[0;32m--> 626\u001b[0;31m         torch.autograd.backward(\n\u001b[0m\u001b[1;32m    627\u001b[0m             \u001b[0mself\u001b[0m\u001b[0;34m,\u001b[0m \u001b[0mgradient\u001b[0m\u001b[0;34m,\u001b[0m \u001b[0mretain_graph\u001b[0m\u001b[0;34m,\u001b[0m \u001b[0mcreate_graph\u001b[0m\u001b[0;34m,\u001b[0m \u001b[0minputs\u001b[0m\u001b[0;34m=\u001b[0m\u001b[0minputs\u001b[0m\u001b[0;34m\u001b[0m\u001b[0;34m\u001b[0m\u001b[0m\n\u001b[1;32m    628\u001b[0m         )\n",
      "\u001b[0;32m/usr/local/lib/python3.11/dist-packages/torch/autograd/__init__.py\u001b[0m in \u001b[0;36mbackward\u001b[0;34m(tensors, grad_tensors, retain_graph, create_graph, grad_variables, inputs)\u001b[0m\n\u001b[1;32m    345\u001b[0m     \u001b[0;31m# some Python versions print out the first line of a multi-line function\u001b[0m\u001b[0;34m\u001b[0m\u001b[0;34m\u001b[0m\u001b[0m\n\u001b[1;32m    346\u001b[0m     \u001b[0;31m# calls in the traceback and some print out the last line\u001b[0m\u001b[0;34m\u001b[0m\u001b[0;34m\u001b[0m\u001b[0m\n\u001b[0;32m--> 347\u001b[0;31m     _engine_run_backward(\n\u001b[0m\u001b[1;32m    348\u001b[0m         \u001b[0mtensors\u001b[0m\u001b[0;34m,\u001b[0m\u001b[0;34m\u001b[0m\u001b[0;34m\u001b[0m\u001b[0m\n\u001b[1;32m    349\u001b[0m         \u001b[0mgrad_tensors_\u001b[0m\u001b[0;34m,\u001b[0m\u001b[0;34m\u001b[0m\u001b[0;34m\u001b[0m\u001b[0m\n",
      "\u001b[0;32m/usr/local/lib/python3.11/dist-packages/torch/autograd/graph.py\u001b[0m in \u001b[0;36m_engine_run_backward\u001b[0;34m(t_outputs, *args, **kwargs)\u001b[0m\n\u001b[1;32m    821\u001b[0m         \u001b[0munregister_hooks\u001b[0m \u001b[0;34m=\u001b[0m \u001b[0m_register_logging_hooks_on_whole_graph\u001b[0m\u001b[0;34m(\u001b[0m\u001b[0mt_outputs\u001b[0m\u001b[0;34m)\u001b[0m\u001b[0;34m\u001b[0m\u001b[0;34m\u001b[0m\u001b[0m\n\u001b[1;32m    822\u001b[0m     \u001b[0;32mtry\u001b[0m\u001b[0;34m:\u001b[0m\u001b[0;34m\u001b[0m\u001b[0;34m\u001b[0m\u001b[0m\n\u001b[0;32m--> 823\u001b[0;31m         return Variable._execution_engine.run_backward(  # Calls into the C++ engine to run the backward pass\n\u001b[0m\u001b[1;32m    824\u001b[0m             \u001b[0mt_outputs\u001b[0m\u001b[0;34m,\u001b[0m \u001b[0;34m*\u001b[0m\u001b[0margs\u001b[0m\u001b[0;34m,\u001b[0m \u001b[0;34m**\u001b[0m\u001b[0mkwargs\u001b[0m\u001b[0;34m\u001b[0m\u001b[0;34m\u001b[0m\u001b[0m\n\u001b[1;32m    825\u001b[0m         )  # Calls into the C++ engine to run the backward pass\n",
      "\u001b[0;31mKeyboardInterrupt\u001b[0m: "
     ]
    }
   ],
   "source": [
    "criterion = nn.CrossEntropyLoss(ignore_index=diacritic_to_idx['<PAD>'])\n",
    "optimizer = torch.optim.Adam(bilstm_model.parameters(), lr=0.001)\n",
    "\n",
    "\n",
    "history = train_model(bilstm_model, train_loader, val_loader, criterion, optimizer, num_epochs=15)"
   ]
  },
  {
   "cell_type": "markdown",
   "metadata": {
    "id": "0khia11LTuEz"
   },
   "source": [
    "# BiLSTM: Hardest Examples and Error Analysis\n",
    "\n",
    "### BiLSTM Evaluation: Hardest Examples & Error Distribution\n",
    "\n",
    "This section identifies the most challenging examples for the BiLSTM model from the test set by computing the number of incorrect diacritic predictions per input.\n",
    "\n",
    "For the top `num_examples` (default 5), it reconstructs:\n",
    "- The original input text.\n",
    "- Ground truth with diacritics.\n",
    "- Predicted text with diacritics.\n",
    "\n",
    "It also analyzes and visualizes the types of diacritics most commonly predicted incorrectly using a bar chart.\n",
    "\n",
    "Use case: Helps understand model weaknesses and guide improvements or error-specific fine-tuning.\n",
    "\n",
    "# testing results:\n",
    "```\n",
    "Example 1 (Index 2, Errors: 3):\n",
    "Input Text: وقد صرحوا بتفاوتهما قلنا قد قرر في علم البيان أن وجه الشبه أقوى في المشبه به فالمراد من المحبة في المشبه أصلها وفي المشبه به زيا\n",
    "True Diacritized Text: وَقَدْ صَرَّحُوا بِتَفَاوُتِهِمَا قُلْنَا قَدْ قُرِّرَ فِي عِلْمِ الْبَيَانِ أَنَّ وَجْهَ الشَّبَهِ أَقْوَى فِي الْمُشَبَّهِ بِهِ فَالْمُرَادُ مِنْ الْمَحَبَّةِ فِي الْمُشَبَّهِ أَصْلُهَا وَفِي الْمُشَبَّهِ بِهِ زِيَا\n",
    "Predicted Diacritized Text: وَقَدْ صَرَّحُوا بِتَفَاوُتِهِمَا قُلْنَا قَدْ قَرَّرَ فِي عِلْمِ الْبَيَانِ أَنَّ وَجْهَ الشَّبَهِ أَقْوَى فِي الْمُشَبَّهِ بِهِ فَالْمُرَادُ مِنْ الْمَحَبَّةِ فِي الْمُشَبِّهِ أَصْلُهَا وَفِي الْمُشَبَّهِ بِهِ زِيَا\n",
    "\n",
    "Example 2 (Index 6, Errors: 2):\n",
    "Input Text: مة قنية نعم لو استعمله كله أحدهم بالغلبة بلا إذن الآخر\n",
    "True Diacritized Text: مَةِ قُنْيَةٌ نَعَمْ لَوْ اسْتَعْمَلَهُ كُلَّهُ أَحَدُهُمْ بِالْغَلَبَةِ بِلَا إذْنِ الْآخَرِ\n",
    "Predicted Diacritized Text: مَةِ قُنْيَةً نَعَمْ لَوْ اسْتَعْمَلَهُ كُلُّهُ أَحَدُهُمْ بِالْغَلَبَةِ بِلَا إذْنِ الْآخَرِ\n",
    "\n",
    "Example 3 (Index 3, Errors: 1):\n",
    "Input Text: دتها\n",
    "True Diacritized Text: دَتُهَا\n",
    "Predicted Diacritized Text: دَتِهَا\n",
    "\n",
    "Example 4 (Index 5, Errors: 1):\n",
    "Input Text: ولو سكن بعضهم ولم يجد الآخر موضعا يكفيه فليس له أجرة ولا له أن يقول أنا أستعمل بقدر ما استعملته لأن المهايأة إنما تكون بعد الخصو\n",
    "True Diacritized Text: وَلَوْ سَكَنَ بَعْضُهُمْ وَلَمْ يَجِدْ الْآخَرُ مَوْضِعًا يَكْفِيهِ فَلَيْسَ لَهُ أُجْرَةٌ وَلَا لَهُ أَنْ يَقُولَ أَنَا أَسْتَعْمِلُ بِقَدْرِ مَا اسْتَعْمَلْته لِأَنَّ الْمُهَايَأَةَ إنَّمَا تَكُونُ بَعْدَ الْخُصُو\n",
    "Predicted Diacritized Text: وَلَوْ سَكَنَ بَعْضُهُمْ وَلَمْ يَجِدْ الْآخَرُ مَوْضِعًا يَكْفِيهِ فَلَيْسَ لَهُ أُجْرَةٌ وَلَا لَهُ أَنْ يَقُولَ أَنَا أَسْتَعْمَلُ بِقَدْرِ مَا اسْتَعْمَلْته لِأَنَّ الْمُهَايَأَةَ إنَّمَا تَكُونُ بَعْدَ الْخُصُو\n",
    "\n",
    "Example 5 (Index 0, Errors: 0):\n",
    "Input Text: والوكيل ليس بخصم في أحدهما وهو إثبات العتق على المولى\n",
    "True Diacritized Text: وَالْوَكِيلُ لَيْسَ بِخَصْمٍ فِي أَحَدِهِمَا وَهُوَ إثْبَاتُ الْعِتْقِ عَلَى الْمَوْلَى\n",
    "Predicted Diacritized Text: وَالْوَكِيلُ لَيْسَ بِخَصْمٍ فِي أَحَدِهِمَا وَهُوَ إثْبَاتُ الْعِتْقِ عَلَى الْمَوْلَى\n",
    "```\n",
    "\n",
    "###Plot of the hardest حركه for the model\n",
    "![image.png](data:image/png;base64,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)\n",
    "\n",
    "\n",
    "as shown in the figure the mmost hardes Harkah for the model   ُ و ّ\n"
   ]
  },
  {
   "cell_type": "code",
   "execution_count": null,
   "metadata": {
    "collapsed": true,
    "id": "aQN7tCShiTyf"
   },
   "outputs": [],
   "source": [
    "def reconstruct_text(chars, diacritics):\n",
    "    result = []\n",
    "    for char, diac in zip(chars, diacritics):\n",
    "        result.append(char)\n",
    "        if diac and diac != '<NONE>':\n",
    "            result.append(diac)\n",
    "    return ''.join(result)\n",
    "\n",
    "def test_model(model, test_dataset, char_to_idx, diacritic_to_idx, idx_to_char, idx_to_diacritic, device, num_examples=5):\n",
    "    model.eval()\n",
    "    errors = []\n",
    "\n",
    "    with torch.no_grad():\n",
    "        for idx in tqdm(range(len(test_dataset)), desc=\"Finding hardest BiLSTM examples\"):\n",
    "            sample = test_dataset[idx]\n",
    "            input_ids = sample['input_ids'].unsqueeze(0).to(device)\n",
    "            labels = sample['labels'].numpy()\n",
    "\n",
    "            outputs = model(input_ids)\n",
    "            preds = outputs.argmax(dim=-1).squeeze(0).cpu().numpy()\n",
    "\n",
    "            mask = labels != diacritic_to_idx['<PAD>']\n",
    "            error_count = ((preds != labels) & mask).sum().item()\n",
    "\n",
    "            errors.append((idx, error_count, input_ids.squeeze().cpu().numpy(), labels, preds))\n",
    "\n",
    "    errors.sort(key=lambda x: x[1], reverse=True)\n",
    "    hardest_examples = errors[:num_examples]\n",
    "\n",
    "    print(\"\\nBiLSTM Model: Hardest Examples\")\n",
    "    for i, (idx, error_count, input_ids, labels, preds) in enumerate(hardest_examples, 1):\n",
    "        # Convert to characters and diacritics\n",
    "        chars = [idx_to_char.get(id, '<UNK>') for id in input_ids if id != char_to_idx['<PAD>']]\n",
    "        true_diacritics = [idx_to_diacritic.get(id, '<NONE>') for id in labels if id != diacritic_to_idx['<PAD>']]\n",
    "        pred_diacritics = [idx_to_diacritic.get(id, '<NONE>') for id in preds if id != diacritic_to_idx['<PAD>']]\n",
    "\n",
    "        # Reconstruct text\n",
    "        input_text = ''.join(chars)\n",
    "        true_text = reconstruct_text(chars, true_diacritics)\n",
    "        pred_text = reconstruct_text(chars, pred_diacritics)\n",
    "\n",
    "        # Print results\n",
    "        print(f\"\\nExample {i} (Index {idx}, Errors: {error_count}):\")\n",
    "        print(f\"Input Text: {input_text}\")\n",
    "        print(f\"True Diacritized Text: {true_text}\")\n",
    "        print(f\"Predicted Diacritized Text: {pred_text}\")\n",
    "\n",
    "    # Analyze error distribution\n",
    "    error_diacritics = Counter()\n",
    "    for _, _, _, labels, preds in hardest_examples:\n",
    "        mask = labels != diacritic_to_idx['<PAD>']\n",
    "        for true_id, pred_id in zip(labels[mask], preds[mask]):\n",
    "            if true_id != pred_id:\n",
    "                true_diac = idx_to_diacritic.get(true_id, '<NONE>')\n",
    "                error_diacritics[true_diac] += 1\n",
    "\n",
    "    plt.figure(figsize=(10, 5))\n",
    "    sns.barplot(x=list(error_diacritics.keys()), y=list(error_diacritics.values()))\n",
    "    plt.title('BiLSTM: Diacritic Error Distribution in Hardest Examples')\n",
    "    plt.xlabel('Diacritic Type')\n",
    "    plt.ylabel('Error Count')\n",
    "    plt.xticks(rotation=45, ha='right')\n",
    "    plt.tight_layout()\n",
    "    plt.savefig('bilstm_error_distribution.png')\n",
    "    plt.show()\n",
    "\n",
    "    return hardest_examples\n",
    "\n"
   ]
  },
  {
   "cell_type": "code",
   "execution_count": null,
   "metadata": {
    "colab": {
     "base_uri": "https://localhost:8080/"
    },
    "id": "RmYuJEXG47kz",
    "outputId": "7218cf39-fca1-4261-a4cf-43886404fe9c"
   },
   "outputs": [
    {
     "name": "stdout",
     "output_type": "stream",
     "text": [
      "\n",
      "Loaded best BiLSTM model for testing...\n"
     ]
    }
   ],
   "source": [
    "bilstm_model.load_state_dict(torch.load('/content/drive/MyDrive/best_bilstm_model.pt'))\n",
    "print(\"\\nLoaded best BiLSTM model for testing...\")\n"
   ]
  },
  {
   "cell_type": "code",
   "execution_count": null,
   "metadata": {
    "id": "F-hSZ3SUpS6u"
   },
   "outputs": [],
   "source": [
    "bilstm_hardest = test_model(bilstm_model, test_dataset, char_to_idx, diacritic_to_idx, idx_to_char, idx_to_diacritic, device, num_examples=5)"
   ]
  },
  {
   "cell_type": "code",
   "execution_count": null,
   "metadata": {
    "id": "7QJFTPq36Afg"
   },
   "outputs": [],
   "source": []
  },
  {
   "cell_type": "markdown",
   "metadata": {
    "id": "25FbLiv3SGNU"
   },
   "source": [
    "# Custom Transformer Diacritizer (Encoder-Based, Trained from Scratch)\n",
    "\n",
    "This section presents my custom Transformer model, trained entirely from scratch for the task of Arabic text diacritization.\n",
    "\n",
    "---\n",
    "\n",
    "#### Transformer Architecture Types\n",
    "\n",
    "There are three major categories of Transformer architectures commonly used in natural language processing:\n",
    "\n",
    "| Type                | Description                                                                 | Examples                         |\n",
    "|---------------------|-----------------------------------------------------------------------------|----------------------------------|\n",
    "| Encoder-based       | Processes the entire input sequence and produces contextualized representations. | BERT, RoBERTa, AraBERT           |\n",
    "| Decoder-based       | Generates output one token at a time, typically for language modeling or generation tasks. | GPT, GPT-2, GPT-3                |\n",
    "| Encoder-Decoder     | Combines an encoder to understand the input and a decoder to generate the output. | T5, BART, MarianMT               |\n",
    "\n",
    "**Model Type Used:**  \n",
    "The model I developed is an **encoder-based Transformer**. It was implemented and trained from scratch without the use of pretrained weights or embeddings.\n",
    "\n",
    "---\n",
    "\n",
    "#### Model Architecture Summary\n",
    "\n",
    "- **Embedding Dimension**: 512  \n",
    "- **Number of Encoder Layers**: 8  \n",
    "- **Attention Heads**: 8  \n",
    "- **Feedforward Network Dimension**: 2048  \n",
    "- **Dropout Rate**: 0.1  \n",
    "- **Activation Function**: GELU  \n",
    "- **Positional Encoding**: Sinusoidal encoding  \n",
    "- **Output Layer**: Residual feedforward network projecting to the number of diacritic labels\n",
    "\n",
    "The model includes layer normalization, attention masking, and positional encoding to handle variable-length inputs and padding effectively.\n",
    "\n",
    "---\n",
    "\n",
    "#### Evaluation Results\n",
    "\n",
    "After training, the model achieved an accuracy of **97.03%**, outperforming my fine-tuned AraBERT model (code and preformance down). This result highlights the potential of a well-designed encoder-based Transformer, even when trained from scratch.\n",
    "\n",
    "---\n",
    "\n",
    "#### Remarks\n",
    "\n",
    "Due to limitations in computational resources and time, I was not able to experiment with other types of Transformer architectures, such as encoder-decoder or decoder-only models. However, it is possible that those architectures could achieve even better results with the appropriate configuration and tuning. Future work could involve exploring such alternatives or leveraging pretrained models with more specialized fine-tuning strategies.\n",
    "\n",
    "---\n",
    "\n",
    "In summary, the custom encoder-based Transformer demonstrated strong performance on the Arabic diacritization task and offers a solid foundation for further experimentation and improvement.\n"
   ]
  },
  {
   "cell_type": "markdown",
   "metadata": {
    "id": "NyIG9nlOSc5X"
   },
   "source": []
  },
  {
   "cell_type": "code",
   "execution_count": null,
   "metadata": {
    "id": "ENLUXYgCfBi4"
   },
   "outputs": [],
   "source": [
    "\n",
    "class PositionalEncoding(nn.Module):\n",
    "    def __init__(self, d_model, dropout=0.1, max_len=10000):\n",
    "        super(PositionalEncoding, self).__init__()\n",
    "        self.dropout = nn.Dropout(p=dropout)\n",
    "\n",
    "        pe = torch.zeros(max_len, d_model)\n",
    "        position = torch.arange(0, max_len, dtype=torch.float).unsqueeze(1)\n",
    "        div_term = torch.exp(torch.arange(0, d_model, 2).float() * (-math.log(10000.0) / d_model))\n",
    "\n",
    "        pe[:, 0::2] = torch.sin(position * div_term)\n",
    "        pe[:, 1::2] = torch.cos(position * div_term)\n",
    "\n",
    "        pe = pe.unsqueeze(0)  # shape: [1, max_len, d_model]\n",
    "        self.register_buffer('pe', pe)\n",
    "\n",
    "    def forward(self, x):\n",
    "        x = x + self.pe[:, :x.size(1), :]\n",
    "        return self.dropout(x)\n",
    "\n",
    "class TransformerDiacritizationModel(nn.Module):\n",
    "    def __init__(self, vocab_size, diacritic_size, embedding_dim=512, nhead=8,\n",
    "                 num_encoder_layers=8, dim_feedforward=2048, dropout=0.1):\n",
    "        super(TransformerDiacritizationModel, self).__init__()\n",
    "\n",
    "        self.embedding = nn.Embedding(vocab_size, embedding_dim)\n",
    "        self.pos_encoder = PositionalEncoding(embedding_dim, dropout)\n",
    "        self.norm = nn.LayerNorm(embedding_dim)\n",
    "\n",
    "        encoder_layer = nn.TransformerEncoderLayer(\n",
    "            d_model=embedding_dim,\n",
    "            nhead=nhead,\n",
    "            dim_feedforward=dim_feedforward,\n",
    "            dropout=dropout,\n",
    "            activation=\"gelu\",  # better than ReLU in many NLP tasks i have trained Relu for one epoch in 10% the data and gelu gelu showed better results\n",
    "            batch_first=True\n",
    "        )\n",
    "\n",
    "        self.transformer_encoder = nn.TransformerEncoder(encoder_layer, num_layers=num_encoder_layers)\n",
    "\n",
    "        # Additional residual FFN block\n",
    "        self.ffn_head = nn.Sequential(\n",
    "            nn.Linear(embedding_dim, embedding_dim),\n",
    "            nn.GELU(),\n",
    "            nn.Dropout(dropout),\n",
    "            nn.Linear(embedding_dim, diacritic_size)\n",
    "        )\n",
    "\n",
    "        self._init_weights()\n",
    "\n",
    "    def _init_weights(self):\n",
    "        nn.init.xavier_uniform_(self.embedding.weight)\n",
    "        for layer in self.ffn_head:\n",
    "            if isinstance(layer, nn.Linear):\n",
    "                nn.init.xavier_uniform_(layer.weight)\n",
    "\n",
    "    def forward(self, x):\n",
    "        padding_mask = (x == 0)  # [batch, seq]\n",
    "        embedded = self.embedding(x) * math.sqrt(self.embedding.embedding_dim)\n",
    "        embedded = self.pos_encoder(embedded)\n",
    "        embedded = self.norm(embedded)\n",
    "\n",
    "        encoder_output = self.transformer_encoder(embedded, src_key_padding_mask=padding_mask)\n",
    "\n",
    "        output = self.ffn_head(encoder_output)  # [batch, seq_len, diacritic_size]\n",
    "        return output\n"
   ]
  },
  {
   "cell_type": "code",
   "execution_count": null,
   "metadata": {
    "colab": {
     "base_uri": "https://localhost:8080/",
     "height": 263
    },
    "collapsed": true,
    "id": "ydecXknkhDlu",
    "outputId": "02d55802-1f80-4542-9117-0e244a7ac5eb"
   },
   "outputs": [
    {
     "name": "stdout",
     "output_type": "stream",
     "text": [
      "Using device: cuda\n",
      "\n",
      "Initializing models with vocab_size=73, diacritic_size=199\n"
     ]
    },
    {
     "ename": "NameError",
     "evalue": "name 'BiLSTMDiacritizationModel' is not defined",
     "output_type": "error",
     "traceback": [
      "\u001b[0;31m---------------------------------------------------------------------------\u001b[0m",
      "\u001b[0;31mNameError\u001b[0m                                 Traceback (most recent call last)",
      "\u001b[0;32m<ipython-input-25-2a0b600f1f15>\u001b[0m in \u001b[0;36m<cell line: 0>\u001b[0;34m()\u001b[0m\n\u001b[1;32m     10\u001b[0m \u001b[0;34m\u001b[0m\u001b[0m\n\u001b[1;32m     11\u001b[0m \u001b[0;31m# BiLSTM model\u001b[0m\u001b[0;34m\u001b[0m\u001b[0;34m\u001b[0m\u001b[0m\n\u001b[0;32m---> 12\u001b[0;31m bilstm_model = BiLSTMDiacritizationModel(\n\u001b[0m\u001b[1;32m     13\u001b[0m     \u001b[0mvocab_size\u001b[0m\u001b[0;34m=\u001b[0m\u001b[0mvocab_size\u001b[0m\u001b[0;34m,\u001b[0m\u001b[0;34m\u001b[0m\u001b[0;34m\u001b[0m\u001b[0m\n\u001b[1;32m     14\u001b[0m     \u001b[0mdiacritic_size\u001b[0m\u001b[0;34m=\u001b[0m\u001b[0mdiacritic_size\u001b[0m\u001b[0;34m,\u001b[0m\u001b[0;34m\u001b[0m\u001b[0;34m\u001b[0m\u001b[0m\n",
      "\u001b[0;31mNameError\u001b[0m: name 'BiLSTMDiacritizationModel' is not defined"
     ]
    }
   ],
   "source": [
    "\n",
    "\n",
    "transformer_model = TransformerDiacritizationModel(\n",
    "    vocab_size=vocab_size,\n",
    "    diacritic_size=diacritic_size,\n",
    "    embedding_dim=256,\n",
    "    nhead=8,\n",
    "    num_encoder_layers=6,\n",
    "    dim_feedforward=1024,\n",
    "    dropout=0.1\n",
    ").to(device)\n",
    "\n",
    "print(f\"Transformer model parameters: {sum(p.numel() for p in transformer_model.parameters() if p.requires_grad)}\")\n",
    "\n"
   ]
  },
  {
   "cell_type": "markdown",
   "metadata": {
    "id": "ehggKeHVvGdU"
   },
   "source": [
    "#Visualized the Transformer Architecture"
   ]
  },
  {
   "cell_type": "code",
   "execution_count": 1,
   "metadata": {
    "colab": {
     "base_uri": "https://localhost:8080/",
     "height": 383
    },
    "collapsed": true,
    "id": "aJJIm6Q8vBb4",
    "outputId": "0d047c13-5666-4837-bd1a-cc0c2ad9144e"
   },
   "outputs": [
    {
     "ename": "ModuleNotFoundError",
     "evalue": "No module named 'onnx'",
     "output_type": "error",
     "traceback": [
      "\u001b[0;31m---------------------------------------------------------------------------\u001b[0m",
      "\u001b[0;31mModuleNotFoundError\u001b[0m                       Traceback (most recent call last)",
      "\u001b[0;32m<ipython-input-1-4908f817fbf7>\u001b[0m in \u001b[0;36m<cell line: 0>\u001b[0;34m()\u001b[0m\n\u001b[1;32m      1\u001b[0m \u001b[0;32mimport\u001b[0m \u001b[0mtorch\u001b[0m\u001b[0;34m\u001b[0m\u001b[0;34m\u001b[0m\u001b[0m\n\u001b[1;32m      2\u001b[0m \u001b[0;32mimport\u001b[0m \u001b[0mtorch\u001b[0m\u001b[0;34m.\u001b[0m\u001b[0mnn\u001b[0m \u001b[0;32mas\u001b[0m \u001b[0mnn\u001b[0m\u001b[0;34m\u001b[0m\u001b[0;34m\u001b[0m\u001b[0m\n\u001b[0;32m----> 3\u001b[0;31m \u001b[0;32mimport\u001b[0m \u001b[0monnx\u001b[0m \u001b[0;31m# Import the onnx package\u001b[0m\u001b[0;34m\u001b[0m\u001b[0;34m\u001b[0m\u001b[0m\n\u001b[0m\u001b[1;32m      4\u001b[0m \u001b[0;34m\u001b[0m\u001b[0m\n\u001b[1;32m      5\u001b[0m \u001b[0mmodel\u001b[0m \u001b[0;34m=\u001b[0m \u001b[0mTransformerDiacritizationModel\u001b[0m\u001b[0;34m(\u001b[0m\u001b[0;34m)\u001b[0m\u001b[0;34m\u001b[0m\u001b[0;34m\u001b[0m\u001b[0m\n",
      "\u001b[0;31mModuleNotFoundError\u001b[0m: No module named 'onnx'",
      "",
      "\u001b[0;31m---------------------------------------------------------------------------\u001b[0;32m\nNOTE: If your import is failing due to a missing package, you can\nmanually install dependencies using either !pip or !apt.\n\nTo view examples of installing some common dependencies, click the\n\"Open Examples\" button below.\n\u001b[0;31m---------------------------------------------------------------------------\u001b[0m\n"
     ]
    }
   ],
   "source": [
    "model = TransformerDiacritizationModel(73,199)\n",
    "model.eval()\n",
    "\n",
    "dummy_input = torch.randint(0, 73, (1, 50))  # [batch_size=1, seq_len=50]\n",
    "\n",
    "# Export to ONNX with opset_version=14\n",
    "torch.onnx.export(\n",
    "    model,\n",
    "    dummy_input,\n",
    "    \"Transformer.onnx\",\n",
    "    input_names=[\"input\"],\n",
    "    output_names=[\"output\"],\n",
    "    dynamic_axes={\n",
    "        \"input\": {0: \"batch_size\", 1: \"seq_len\"},  # Changed dynamic axes indices\n",
    "        \"output\": {0: \"batch_size\", 1: \"seq_len\"}   # Changed dynamic axes indices\n",
    "    },\n",
    "    opset_version=14 # Changed opset version to 14 to support 'aten::scaled_dot_product_attention'\n",
    ")\n",
    "\n",
    "print(\"Model exported to bilstm_diacritization.onnx. Upload to https://netron.app/ for visualization.\")"
   ]
  },
  {
   "cell_type": "code",
   "execution_count": null,
   "metadata": {
    "colab": {
     "base_uri": "https://localhost:8080/"
    },
    "id": "Wz46J3VRl2Fw",
    "outputId": "3a5aeb70-86c0-4fef-a354-b08c3e927108"
   },
   "outputs": [
    {
     "name": "stdout",
     "output_type": "stream",
     "text": [
      "Using device: cuda\n"
     ]
    }
   ],
   "source": []
  },
  {
   "cell_type": "markdown",
   "metadata": {
    "id": "e21aS2MwTc3O"
   },
   "source": [
    "# Training and Evaluation for Transformer Model\n",
    "\n",
    "### Transformer Training with Early Stopping\n",
    "\n",
    "This section defines the training loop for the Transformer model, with support for early stopping based on validation loss to prevent overfitting.\n",
    "\n",
    "The training process includes:\n",
    "- Accuracy and loss tracking.\n",
    "- Patience mechanism (stops training if no improvement in `val_loss` over N epochs).\n",
    "- Saves the best model when improvement is detected.\n",
    "\n",
    "After training, it visualizes the loss and accuracy trends over epochs.\n",
    "\n",
    "- Loss Function: CrossEntropyLoss (ignores padding)\n",
    "- Optimizer: Adam with weight decay\n",
    "- Learning Rate: 1e-4\n",
    "- Early Stopping Patience: 5\n",
    "- number of Epochs : 2"
   ]
  },
  {
   "cell_type": "code",
   "execution_count": null,
   "metadata": {
    "colab": {
     "base_uri": "https://localhost:8080/",
     "height": 720,
     "referenced_widgets": [
      "0192bbaa275d4b63bfe131bacd5a762e",
      "f874318a6d2b429d837abd495b7fbd8c",
      "7d18fe6cf3854425bf07669b81b00ff0",
      "29ad83a948ed4ca09ecc9428b4384d0f",
      "85324b03f30244569a134595989bd42a",
      "e55d11940491406e8f064835036ea404",
      "3550c080cfa84fbca4781cbae050e51f",
      "55a344ae48d44bb8a28c8d54fe31a227",
      "f4fa22f5c3d747e7822d5afc932c8b00",
      "93e43fe7f646480f971b4059cdac6732",
      "a9b4d4a3e3f94107a0279cec3ae890d0",
      "83fb9d0a951747c7bdd4b1814a4fc1e3",
      "8b34a430ddfa47d286ec0f73f2675c55",
      "ac25397fce5548e792b71fa3c24ff530",
      "c7b9526ae75043d3956ca4f6939c8526",
      "689c3f6e2f4e49ef8234f0ac7539294e",
      "167871f93a4f4f3fb35f71dcb1c87e85",
      "25506482dd7a4669814c1f85cf1a7f4e",
      "8a969898b4564deeb0db3a9e77f7b017",
      "7da141087ef744ed888834d492cd448a",
      "6d56eabf53ec412abd49e0d49899c668",
      "b94569e50bd6402a873ff658b6d4202e",
      "4b7b6fa33e924bbf86dbce244a2255b4",
      "f9b4b90883484523a38a933e4969bff7",
      "1f7ab34036154eb69db354154dbd624c",
      "77b51958986642e289d748a6a2a18cab",
      "d3110c1890274c45b92abb9c9c6bbb14",
      "0bf28b7e550e4a1b896bb3452df625ec",
      "d13e0f175e6748ecbe75283968521066",
      "f31d355bf3da4344bb93d0ca70375178",
      "e236b3fffa7e48e1be02cdbf1c05d797",
      "655dfe7b583649eaa1ad57187da8ce4c",
      "f394d1ca15994c3f858ce31de4babcaa",
      "a9dfcd1a3902409c9c726967f3bffe86",
      "685cd7aaa7f047e88bbb68581ee3165a",
      "77d565f26ba04656a341e0958c4494cc",
      "f5a7ac0260a24ab29e39efa7fee3284c",
      "299ffee993a244cbb7b78965bf233f48",
      "08105b482c0e48ec8c855ab5d9126723",
      "b8054d820627436aa0eca97fafbe05a0",
      "9a39b0dc5dc1445dacfdd75d3a71425e",
      "3d8923d21d3a4dc98323c682e4e0a29b",
      "b3671e9b1b69427e8d874ec7a5c0e48c",
      "d3e1b5f16573430296064af7988b993d",
      "02afad7c68a64236aca9eaebfae03e04",
      "2bd78ea67b32422c8c6c32de5fc5e719",
      "2b13f18d347d4c87b1d76bb9e8fe774f",
      "4cec007ef1964302a5bdf441e361cb79",
      "07ce3dae468e4756a916109dd3738682",
      "cb48ffd639864e62a41c1e7d0f06ebd3",
      "32c49b706cac4b9cb74ff59d76c2c80b",
      "e01fb4d9198a48679779df40e9a207d5",
      "c8ee7c37e41f4b54a7cbd7c86a376056",
      "ef8aa9c5759c45db9bbbcc76e8da4274",
      "ae7a756399814f538e110d443eeac56d"
     ]
    },
    "collapsed": true,
    "id": "8joLWJpOh1Gk",
    "outputId": "b740ef1b-1e20-44bb-bb13-d15eb4f24686"
   },
   "outputs": [
    {
     "name": "stdout",
     "output_type": "stream",
     "text": [
      "\n",
      "Training Transformer model...\n"
     ]
    },
    {
     "data": {
      "application/vnd.jupyter.widget-view+json": {
       "model_id": "0192bbaa275d4b63bfe131bacd5a762e",
       "version_major": 2,
       "version_minor": 0
      },
      "text/plain": [
       "Epoch 1/10 - Training:   0%|          | 0/135438 [00:00<?, ?it/s]"
      ]
     },
     "metadata": {},
     "output_type": "display_data"
    },
    {
     "data": {
      "application/vnd.jupyter.widget-view+json": {
       "model_id": "83fb9d0a951747c7bdd4b1814a4fc1e3",
       "version_major": 2,
       "version_minor": 0
      },
      "text/plain": [
       "Epoch 1/10 - Validation:   0%|          | 0/18017 [00:00<?, ?it/s]"
      ]
     },
     "metadata": {},
     "output_type": "display_data"
    },
    {
     "name": "stderr",
     "output_type": "stream",
     "text": [
      "/usr/local/lib/python3.11/dist-packages/torch/nn/modules/transformer.py:508: UserWarning: The PyTorch API of nested tensors is in prototype stage and will change in the near future. We recommend specifying layout=torch.jagged when constructing a nested tensor, as this layout receives active development, has better operator coverage, and works with torch.compile. (Triggered internally at /pytorch/aten/src/ATen/NestedTensorImpl.cpp:178.)\n",
      "  output = torch._nested_tensor_from_mask(\n"
     ]
    },
    {
     "name": "stdout",
     "output_type": "stream",
     "text": [
      "\n",
      "Epoch 1/10:\n",
      "Train Loss: 0.1737, Train Acc: 94.11%\n",
      "Val Loss: 0.0890, Val Acc: 97.05%\n",
      "Saved best Transformer model\n"
     ]
    },
    {
     "data": {
      "application/vnd.jupyter.widget-view+json": {
       "model_id": "4b7b6fa33e924bbf86dbce244a2255b4",
       "version_major": 2,
       "version_minor": 0
      },
      "text/plain": [
       "Epoch 2/10 - Training:   0%|          | 0/135438 [00:00<?, ?it/s]"
      ]
     },
     "metadata": {},
     "output_type": "display_data"
    },
    {
     "data": {
      "application/vnd.jupyter.widget-view+json": {
       "model_id": "a9dfcd1a3902409c9c726967f3bffe86",
       "version_major": 2,
       "version_minor": 0
      },
      "text/plain": [
       "Epoch 2/10 - Validation:   0%|          | 0/18017 [00:00<?, ?it/s]"
      ]
     },
     "metadata": {},
     "output_type": "display_data"
    },
    {
     "name": "stdout",
     "output_type": "stream",
     "text": [
      "\n",
      "Epoch 2/10:\n",
      "Train Loss: 0.0959, Train Acc: 96.84%\n",
      "Val Loss: 0.0799, Val Acc: 97.33%\n",
      "Saved best Transformer model\n"
     ]
    },
    {
     "data": {
      "application/vnd.jupyter.widget-view+json": {
       "model_id": "02afad7c68a64236aca9eaebfae03e04",
       "version_major": 2,
       "version_minor": 0
      },
      "text/plain": [
       "Epoch 3/10 - Training:   0%|          | 0/135438 [00:00<?, ?it/s]"
      ]
     },
     "metadata": {},
     "output_type": "display_data"
    },
    {
     "ename": "KeyboardInterrupt",
     "evalue": "",
     "output_type": "error",
     "traceback": [
      "\u001b[0;31m---------------------------------------------------------------------------\u001b[0m",
      "\u001b[0;31mKeyboardInterrupt\u001b[0m                         Traceback (most recent call last)",
      "\u001b[0;32m<ipython-input-27-a199ae1baf63>\u001b[0m in \u001b[0;36m<cell line: 0>\u001b[0;34m()\u001b[0m\n\u001b[1;32m    115\u001b[0m \u001b[0;31m# Train the Transformer model\u001b[0m\u001b[0;34m\u001b[0m\u001b[0;34m\u001b[0m\u001b[0m\n\u001b[1;32m    116\u001b[0m \u001b[0mprint\u001b[0m\u001b[0;34m(\u001b[0m\u001b[0;34m\"\\nTraining Transformer model...\"\u001b[0m\u001b[0;34m)\u001b[0m\u001b[0;34m\u001b[0m\u001b[0;34m\u001b[0m\u001b[0m\n\u001b[0;32m--> 117\u001b[0;31m \u001b[0mhistory\u001b[0m \u001b[0;34m=\u001b[0m \u001b[0mtrain_transformer_model\u001b[0m\u001b[0;34m(\u001b[0m\u001b[0mtransformer_model\u001b[0m\u001b[0;34m,\u001b[0m \u001b[0mtrain_loader\u001b[0m\u001b[0;34m,\u001b[0m \u001b[0mval_loader\u001b[0m\u001b[0;34m,\u001b[0m \u001b[0mcriterion\u001b[0m\u001b[0;34m,\u001b[0m \u001b[0moptimizer\u001b[0m\u001b[0;34m,\u001b[0m \u001b[0mnum_epochs\u001b[0m\u001b[0;34m=\u001b[0m\u001b[0;36m10\u001b[0m\u001b[0;34m)\u001b[0m\u001b[0;34m\u001b[0m\u001b[0;34m\u001b[0m\u001b[0m\n\u001b[0m",
      "\u001b[0;32m<ipython-input-27-a199ae1baf63>\u001b[0m in \u001b[0;36mtrain_transformer_model\u001b[0;34m(model, train_loader, val_loader, criterion, optimizer, num_epochs, patience)\u001b[0m\n\u001b[1;32m     24\u001b[0m             \u001b[0moptimizer\u001b[0m\u001b[0;34m.\u001b[0m\u001b[0mstep\u001b[0m\u001b[0;34m(\u001b[0m\u001b[0;34m)\u001b[0m\u001b[0;34m\u001b[0m\u001b[0;34m\u001b[0m\u001b[0m\n\u001b[1;32m     25\u001b[0m \u001b[0;34m\u001b[0m\u001b[0m\n\u001b[0;32m---> 26\u001b[0;31m             \u001b[0mtrain_loss\u001b[0m \u001b[0;34m+=\u001b[0m \u001b[0mloss\u001b[0m\u001b[0;34m.\u001b[0m\u001b[0mitem\u001b[0m\u001b[0;34m(\u001b[0m\u001b[0;34m)\u001b[0m\u001b[0;34m\u001b[0m\u001b[0;34m\u001b[0m\u001b[0m\n\u001b[0m\u001b[1;32m     27\u001b[0m \u001b[0;34m\u001b[0m\u001b[0m\n\u001b[1;32m     28\u001b[0m             \u001b[0mmask\u001b[0m \u001b[0;34m=\u001b[0m \u001b[0mlabels\u001b[0m \u001b[0;34m!=\u001b[0m \u001b[0mdiacritic_to_idx\u001b[0m\u001b[0;34m[\u001b[0m\u001b[0;34m'<PAD>'\u001b[0m\u001b[0;34m]\u001b[0m\u001b[0;34m\u001b[0m\u001b[0;34m\u001b[0m\u001b[0m\n",
      "\u001b[0;31mKeyboardInterrupt\u001b[0m: "
     ]
    }
   ],
   "source": [
    "# Training and evaluation function for Transformer model\n",
    "def train_transformer_model(model, train_loader, val_loader, criterion, optimizer, num_epochs=10, patience=5):\n",
    "    best_val_loss = float('inf')\n",
    "    history = {'train_loss': [], 'val_loss': [], 'train_acc': [], 'val_acc': []}\n",
    "    patience_counter = 0\n",
    "\n",
    "\n",
    "    for epoch in range(num_epochs):\n",
    "        # Training\n",
    "        model.train()\n",
    "        train_loss = 0.0\n",
    "        train_correct = 0\n",
    "        train_total = 0\n",
    "\n",
    "        for batch in tqdm(train_loader, desc=f\"Epoch {epoch+1}/{num_epochs} - Training\"):\n",
    "            inputs = batch['input_ids'].to(device)\n",
    "            labels = batch['labels'].to(device)\n",
    "\n",
    "            optimizer.zero_grad()\n",
    "            outputs = model(inputs)\n",
    "            loss = criterion(outputs.transpose(1, 2), labels)\n",
    "\n",
    "            loss.backward()\n",
    "            optimizer.step()\n",
    "\n",
    "            train_loss += loss.item()\n",
    "\n",
    "            mask = labels != diacritic_to_idx['<PAD>']\n",
    "            preds = outputs.argmax(dim=-1)\n",
    "            train_correct += ((preds == labels) & mask).sum().item()\n",
    "            train_total += mask.sum().item()\n",
    "\n",
    "        train_loss /= len(train_loader)\n",
    "        train_acc = train_correct / train_total if train_total > 0 else 0\n",
    "\n",
    "        # Validation\n",
    "        model.eval()\n",
    "        val_loss = 0.0\n",
    "        val_correct = 0\n",
    "        val_total = 0\n",
    "\n",
    "        with torch.no_grad():\n",
    "            for batch in tqdm(val_loader, desc=f\"Epoch {epoch+1}/{num_epochs} - Validation\"):\n",
    "                inputs = batch['input_ids'].to(device)\n",
    "                labels = batch['labels'].to(device)\n",
    "\n",
    "                outputs = model(inputs)\n",
    "                loss = criterion(outputs.transpose(1, 2), labels)\n",
    "\n",
    "                val_loss += loss.item()\n",
    "\n",
    "                mask = labels != diacritic_to_idx['<PAD>']\n",
    "                preds = outputs.argmax(dim=-1)\n",
    "                val_correct += ((preds == labels) & mask).sum().item()\n",
    "                val_total += mask.sum().item()\n",
    "\n",
    "        val_loss /= len(val_loader)\n",
    "        val_acc = val_correct / val_total if val_total > 0 else 0\n",
    "\n",
    "        history['train_loss'].append(train_loss)\n",
    "        history['val_loss'].append(val_loss)\n",
    "        history['train_acc'].append(train_acc)\n",
    "        history['val_acc'].append(val_acc)\n",
    "\n",
    "        print(f\"\\nEpoch {epoch+1}/{num_epochs}:\")\n",
    "        print(f\"Train Loss: {train_loss:.4f}, Train Acc: {train_acc:.2%}\")\n",
    "        print(f\"Val Loss: {val_loss:.4f}, Val Acc: {val_acc:.2%}\")\n",
    "\n",
    "        # Early stopping check\n",
    "        if val_loss < best_val_loss:\n",
    "            best_val_loss = val_loss\n",
    "            patience_counter = 0\n",
    "            torch.save(model.state_dict(), 'best_transformer_model.pt')\n",
    "            print(\"Saved best Transformer model\")\n",
    "        else:\n",
    "            patience_counter += 1\n",
    "            print(f\"Validation loss did not improve. Patience: {patience_counter}/{patience}\")\n",
    "            if patience_counter >= patience:\n",
    "                print(\"Early stopping triggered.\")\n",
    "                break\n",
    "\n",
    "    # Restore best weights\n",
    "\n",
    "    # Plotting code stays unchanged...\n",
    "    plt.figure(figsize=(12, 5))\n",
    "    plt.subplot(1, 2, 1)\n",
    "    plt.plot(history['train_loss'], label='Train Loss')\n",
    "    plt.plot(history['val_loss'], label='Val Loss')\n",
    "    plt.title('Transformer Training and Validation Loss')\n",
    "    plt.xlabel('Epoch')\n",
    "    plt.ylabel('Loss')\n",
    "    plt.legend()\n",
    "    plt.grid(True)\n",
    "\n",
    "    plt.subplot(1, 2, 2)\n",
    "    plt.plot(history['train_acc'], label='Train Acc')\n",
    "    plt.plot(history['val_acc'], label='Val Acc')\n",
    "    plt.title('Transformer Training and Validation Accuracy')\n",
    "    plt.xlabel('Epoch')\n",
    "    plt.ylabel('Accuracy')\n",
    "    plt.legend()\n",
    "    plt.grid(True)\n",
    "\n",
    "    plt.tight_layout()\n",
    "    plt.savefig('transformer_training_history.png')\n",
    "    plt.show()\n",
    "\n",
    "    return history\n",
    "\n",
    "\n",
    "# Initialize training components for Transformer\n",
    "criterion = nn.CrossEntropyLoss(ignore_index=diacritic_to_idx['<PAD>'])\n",
    "optimizer = torch.optim.Adam(transformer_model.parameters(), lr=0.0001, weight_decay=1e-5)\n",
    "\n",
    "# Train the Transformer model\n",
    "print(\"\\nTraining Transformer model...\")\n",
    "history = train_transformer_model(transformer_model, train_loader, val_loader, criterion, optimizer, num_epochs=3)"
   ]
  },
  {
   "cell_type": "markdown",
   "metadata": {
    "id": "To0YaJnQUiHW"
   },
   "source": [
    "# Transformer Evaluation: Hardest Examples & Error Analysis\n",
    "\n",
    "This section mirrors the BiLSTM error analysis but applies it to the **Transformer-based diacritization model**. It identifies and displays the examples where the model made the most errors, offering insights into challenging prediction cases.\n",
    "\n",
    "---\n",
    "\n",
    "## Key Features\n",
    "- Evaluates up to **100 test samples** to ensure fast yet representative analysis.\n",
    "- Selects the **top `num_examples=10`** with the **highest number of prediction errors**.\n",
    "- For each selected example, it presents:\n",
    "  -  **Input Text**\n",
    "  -  **Ground Truth (Diacritized)**\n",
    "  -  **Predicted (Diacritized)**\n",
    "  - **Total Errors in Prediction**\n",
    "\n",
    "---\n",
    "\n",
    "## Purpose\n",
    "This qualitative error analysis complements the overall quantitative metrics by:\n",
    "- Highlighting the **most challenging samples** for the Transformer.\n",
    "- Revealing **common types of mistakes** made by the model.\n",
    "- Supporting future improvements (e.g., better attention, data augmentation).\n",
    "\n",
    "---\n",
    "\n",
    "## Results: Transformer’s Hardest 5 Examples\n",
    "\n",
    "Each example below is sorted by error count (highest first):\n",
    "\n",
    "\n",
    "####  Results & Examples:\n",
    "\n",
    "Transformer Model: Hardest Examples\n",
    "```\n",
    "Example 1 (Index 8, Errors: 10):\n",
    "Input Text: ويلزم القائل بالمنع أنه لو كان يحفظ أوائل السور خاصة كالم  والر  والمر  وطسم  أنه لا يجب عليه قراءتها عند من يجعلها أسماء للسور\n",
    "True Diacritized Text: وَيَلْزَمُ الْقَائِلَ بِالْمَنْعِ أَنَّهُ لَوْ كَانَ يَحْفَظُ أَوَائِلَ السُّوَرِ خَاصَّةً كَالِمْ  والر  وَالمر  وَطسم  أَنَّهُ لَا يَجِبُ عَلَيْهِ قِرَاءَتُهَا عِنْدَ مَنْ يَجْعَلُهَا أَسْمَاءً لِلسُّوَرِ\n",
    "Predicted Diacritized Text: وَيَلْزَمُ الْقَائِلَ بِالْمَنْعِ أَنَّهُ لَوْ كَانَ يَحْفَظُ أَوَائِلَ السُّوَرِ خَاصَّةً كَالِمِ  وَالرِّ  وَالْمَرِّ  وَطَسْمَ  أَنَّهُ لَا يَجِبُ عَلَيْهِ قِرَاءَتُهَا عِنْدَ مَنْ يَجْعَلُهَا أَسْمَاءً لِلسُّورِ\n",
    "\n",
    "Example 2 (Index 5, Errors: 6):\n",
    "Input Text: الثانية : أن يخرج كل آلة مساوية لآلة صاحبه ويسكتا عن الكراء وهي ذات التأويلين فأين هذا من نسبة المصنف لعياض\n",
    "True Diacritized Text: الثَّانِيَةِ : أَنْ يُخْرِجَ كُلٌّ آلَةً مُسَاوِيَةً لِآلَةِ صَاحِبِهِ وَيَسْكُتَا عَنْ الْكِرَاءِ وَهِيَ ذَاتُ التَّأْوِيلَيْنِ فَأَيْنَ هَذَا مِنْ نِسْبَةِ الْمُصَنِّفِ لِعِيَاضٍ\n",
    "Predicted Diacritized Text: الثَّانِيَةُ : أَنْ يَخْرُجَ كُلُّ آلَةٍ مُسَاوِيَةٍ لِآلَةِ صَاحِبِهِ وَيَسْكُتَا عَنْ الْكِرَاءِ وَهِيَ ذَاتُ التَّأْوِيلَيْنِ فَأَيْنَ هَذَا مِنْ نِسْبَةِ الْمُصَنِّفِ لِعِيَاضٍ\n",
    "\n",
    "Example 3 (Index 2, Errors: 4):\n",
    "Input Text: ( وإن أشهد ) مطلق رجعيا ( على رجعتها ) في العدة ( ولم تعلم ) هي ( حتى اعتدت ونكحت من أصابها ) ثم جاء وادعى رجعيتها قبل انقضاء عد\n",
    "True Diacritized Text: ( وَإِنْ أَشْهَدَ ) مُطَلِّقٌ رَجْعِيًّا ( عَلَى رَجْعَتِهَا ) فِي الْعِدَّةِ ( وَلَمْ تَعْلَمْ ) هِيَ ( حَتَّى اعْتَدَّتْ وَنَكَحَتْ مَنْ أَصَابَهَا ) ثُمَّ جَاءَ وَادَّعَى رَجْعِيَّتَهَا قَبْلَ انْقِضَاءِ عِدَّ\n",
    "Predicted Diacritized Text: ( وَإِنْ أَشْهَدَ ) مُطْلَقٌ رَجْعِيًّا ( عَلَى رَجْعَتِهَا ) فِي الْعِدَّةِ ( وَلَمْ تَعْلَمْ ) هِيَ ( حَتَّى اعْتَدَّتْ وَنَكَحَتْ مَنْ أَصَابَهَا ) ثُمَّ جَاءَ وَادَّعَى رَجْعِيَّتَهَا قَبْلَ انْقِضَاءِ عَدَ\n",
    "\n",
    "Example 4 (Index 0, Errors: 2):\n",
    "Input Text: وحقهم عليه إذا فعلوا ذلك أن لا يعذبهم\n",
    "True Diacritized Text: وَحَقُّهُمْ عَلَيْهِ إِذَا فَعَلُوا ذَلِكَ أَنْ لا يُعَذِّبَهُمْ\n",
    "Predicted Diacritized Text: وَحَقُّهُمْ عَلَيْهِ إذَا فَعَلُوا ذَلِكَ أَنْ لَا يُعَذِّبَهُمْ\n",
    "\n",
    "Example 5 (Index 1, Errors: 1):\n",
    "Input Text: أي بخلاف حمالة الديون فإنها لا تكون إلا بشرطها\n",
    "True Diacritized Text: أَيْ بِخِلَافِ حِمَالَةِ الدُّيُونِ فَإِنَّهَا لَا تَكُونُ إلَّا بِشَرْطِهَا\n",
    "Predicted Diacritized Text: أَيْ بِخِلَافِ حَمَالَةِ الدُّيُونِ فَإِنَّهَا لَا تَكُونُ إلَّا بِشَرْطِهَا\n",
    "```\n",
    "\n",
    "---\n",
    "\n",
    "### Plot of hradest Harakah for the model :\n",
    "![image.png](data:image/png;base64,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)\n",
    "\n",
    "\n",
    "As shown in the Figure the most errors happend in فتحه\n",
    "\n",
    "\n",
    "# In hardest examples BiLSTM was better than transformer"
   ]
  },
  {
   "cell_type": "code",
   "execution_count": 1,
   "metadata": {
    "colab": {
     "base_uri": "https://localhost:8080/",
     "height": 1000
    },
    "collapsed": true,
    "id": "Qj_2U_Jj6VZC",
    "outputId": "cfa43c34-5155-4273-e31a-89345a498bca"
   },
   "outputs": [
    {
     "ename": "NameError",
     "evalue": "name 'TransformerDiacritizationModel' is not defined",
     "output_type": "error",
     "traceback": [
      "\u001b[1;31m---------------------------------------------------------------------------\u001b[0m",
      "\u001b[1;31mNameError\u001b[0m                                 Traceback (most recent call last)",
      "Cell \u001b[1;32mIn[1], line 2\u001b[0m\n\u001b[0;32m      1\u001b[0m \u001b[38;5;66;03m# Assuming your model is already defined as shown in the code\u001b[39;00m\n\u001b[1;32m----> 2\u001b[0m transformer_model \u001b[38;5;241m=\u001b[39m \u001b[43mTransformerDiacritizationModel\u001b[49m(\n\u001b[0;32m      3\u001b[0m     vocab_size\u001b[38;5;241m=\u001b[39m\u001b[38;5;241m73\u001b[39m,\n\u001b[0;32m      4\u001b[0m     diacritic_size\u001b[38;5;241m=\u001b[39m\u001b[38;5;241m199\u001b[39m,\n\u001b[0;32m      5\u001b[0m     embedding_dim\u001b[38;5;241m=\u001b[39m\u001b[38;5;241m256\u001b[39m,\n\u001b[0;32m      6\u001b[0m     nhead\u001b[38;5;241m=\u001b[39m\u001b[38;5;241m8\u001b[39m,\n\u001b[0;32m      7\u001b[0m     num_encoder_layers\u001b[38;5;241m=\u001b[39m\u001b[38;5;241m6\u001b[39m,\n\u001b[0;32m      8\u001b[0m     dim_feedforward\u001b[38;5;241m=\u001b[39m\u001b[38;5;241m1024\u001b[39m,\n\u001b[0;32m      9\u001b[0m     dropout\u001b[38;5;241m=\u001b[39m\u001b[38;5;241m0.1\u001b[39m\n\u001b[0;32m     10\u001b[0m )\u001b[38;5;241m.\u001b[39mto(device)\n\u001b[0;32m     12\u001b[0m model_path \u001b[38;5;241m=\u001b[39m \u001b[38;5;124m\"\u001b[39m\u001b[38;5;124m/content/best_transformer_model.pt\u001b[39m\u001b[38;5;124m\"\u001b[39m\n\u001b[0;32m     13\u001b[0m transformer_model\u001b[38;5;241m.\u001b[39mload_state_dict(torch\u001b[38;5;241m.\u001b[39mload(model_path))\n",
      "\u001b[1;31mNameError\u001b[0m: name 'TransformerDiacritizationModel' is not defined"
     ]
    }
   ],
   "source": [
    "# Assuming your model is already defined as shown in the code\n",
    "transformer_model = TransformerDiacritizationModel(\n",
    "    vocab_size=73,\n",
    "    diacritic_size=199,\n",
    "    embedding_dim=256,\n",
    "    nhead=8,\n",
    "    num_encoder_layers=6,\n",
    "    dim_feedforward=1024,\n",
    "    dropout=0.1\n",
    ").to(device)\n",
    "\n",
    "model_path = \"/content/best_transformer_model.pt\"\n",
    "transformer_model.load_state_dict(torch.load(model_path))\n",
    "\n",
    "transformer_model.eval()\n",
    "\n",
    "\n",
    "subset_test_dataset = torch.utils.data.Subset(test_dataset, list(range(10)))\n",
    "\n",
    "\n",
    "\n",
    "# Test Transformer model on hardest examples\n",
    "transformer_hardest = test_model(transformer_model, test_dataset, char_to_idx, diacritic_to_idx, idx_to_char, idx_to_diacritic, device, num_examples=5)"
   ]
  },
  {
   "cell_type": "markdown",
   "metadata": {
    "id": "pxS-ojXMlTI2"
   },
   "source": [
    "# Fine-Tuning AraBERT for Arabic Diacritization\n",
    "\n",
    "In this section, I fine-tuned the **AraBERTv2** model (`aubmindlab/bert-base-arabertv2`) for the task of Arabic diacritization. AraBERT is a Transformer-based encoder model, pretrained on large Arabic corpora, making it well-suited for language-specific tasks like diacritic restoration.\n",
    "\n",
    "---\n",
    "\n",
    "#### Setup and Training\n",
    "\n",
    "- **Model**: `aubmindlab/bert-base-arabertv2` (encoder-only Transformer)\n",
    "- **Task**: Token classification for diacritic restoration\n",
    "- **Loss Function**: CrossEntropyLoss (ignores `<PAD>`)\n",
    "- **Optimizer**: AdamW (lr=2e-5)\n",
    "- **Precision**: bfloat16 enabled\n",
    "- **Frozen Layers**: First 10 encoder layers to speed up training\n",
    "\n",
    "To reduce overfitting and improve efficiency, the lower layers of the encoder were frozen during training.\n",
    "\n",
    "---\n",
    "\n",
    "#### Performance and Limitations\n",
    "\n",
    "- **Epoch 1 Accuracy**: `92.46%` — strong early performance with high potential for further improvement\n",
    "- **Final Accuracy (after Epoch 2)**: `94.26%`\n",
    "- **Training Time**: Approximately **8 hours** for just **2 epochs** on Google Colab with an A100 GPU\n",
    "- **Note**: Training was stopped early due to compute constraints\n",
    "\n",
    "Despite limited compute access, the model showed promising results early on. Given more resources, it is likely the accuracy would continue to improve.\n",
    "![image.png](data:image/png;base64,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)\n",
    "---\n",
    "\n",
    "#### Comparison\n",
    "\n",
    "- **AraBERT Fine-Tuned Accuracy**: `94.26%` (Validation accuracy)\n",
    "- BiLSTM : `97.24%` outperform fine-tuned arabert (Validation accuracy)\n",
    "- **Custom Transformer Trained from Scratch**: `97.33%` — outperformed AraBERT significantly\n",
    "(Validation accuracy)\n",
    "\n",
    "While AraBERT benefits from rich pretraining, the custom Transformer—designed and trained specifically for this task—demonstrated better performance.\n",
    "\n",
    "---\n",
    "\n",
    "#### Conclusion\n",
    "\n",
    "AraBERT offers a strong pretrained baseline for Arabic diacritization, especially when labeled data is limited. However, a tailored Transformer trained from scratch achieved higher accuracy and should be considered when sufficient resources are available.\n"
   ]
  },
  {
   "cell_type": "code",
   "execution_count": null,
   "metadata": {
    "colab": {
     "base_uri": "https://localhost:8080/"
    },
    "id": "KTvRLkzBjmkG",
    "outputId": "99ac956f-07b5-4ba0-9806-32b3d6708919"
   },
   "outputs": [
    {
     "name": "stderr",
     "output_type": "stream",
     "text": [
      "Some weights of BertForTokenClassification were not initialized from the model checkpoint at aubmindlab/bert-base-arabertv2 and are newly initialized: ['classifier.bias', 'classifier.weight']\n",
      "You should probably TRAIN this model on a down-stream task to be able to use it for predictions and inference.\n"
     ]
    },
    {
     "name": "stdout",
     "output_type": "stream",
     "text": [
      "Sample Text: الماء الذي ينجس والذي لا ينجس ( قال الشافعي رحمه ا\n",
      "Decoded Tokens: الماء الذي ينجس والذي لا ينجس ( قال الشافعي رحمه ا\n",
      "Number of Diacritic Labels: 199\n"
     ]
    }
   ],
   "source": [
    "from transformers import AutoModelForTokenClassification, AutoTokenizer\n",
    "from torch.optim import AdamW\n",
    "import torch\n",
    "from torch import nn\n",
    "\n",
    "# Define model and tokenizer\n",
    "model_name = \"aubmindlab/bert-base-arabertv2\"\n",
    "tokenizer = AutoTokenizer.from_pretrained(model_name)\n",
    "arabert_model = AutoModelForTokenClassification.from_pretrained(\n",
    "    model_name,\n",
    "    num_labels=len(diacritic_to_idx),\n",
    "    ignore_mismatched_sizes=True\n",
    ").to(device)\n",
    "\n",
    "# Configure mixed precision\n",
    "arabert_model.config.use_bfloat16 = True\n",
    "\n",
    "# Data quality check: Verify tokenizer and vocabulary alignment\n",
    "sample_text = df['undiacritized'].iloc[0][:50]\n",
    "encoded = tokenizer(sample_text, return_tensors='pt', padding=True, truncation=True, max_length=512)\n",
    "decoded = tokenizer.decode(encoded['input_ids'][0], skip_special_tokens=True)\n",
    "print(f\"Sample Text: {sample_text}\")\n",
    "print(f\"Decoded Tokens: {decoded}\")\n",
    "print(f\"Number of Diacritic Labels: {len(diacritic_to_idx)}\")\n",
    "\n",
    "# Freeze lower layers\n",
    "for param in arabert_model.bert.encoder.layer[:10].parameters():\n",
    "    param.requires_grad = False"
   ]
  },
  {
   "cell_type": "code",
   "execution_count": null,
   "metadata": {
    "colab": {
     "base_uri": "https://localhost:8080/",
     "height": 785
    },
    "id": "iDKkTGShlqsD",
    "outputId": "02658233-6de4-4cb1-fb83-fb20e8515a69"
   },
   "outputs": [
    {
     "name": "stdout",
     "output_type": "stream",
     "text": [
      "\n",
      "Fine-tuning AraBERT model...\n"
     ]
    },
    {
     "name": "stderr",
     "output_type": "stream",
     "text": [
      "Epoch 1/2 - Training: 100%|██████████| 8465/8465 [3:27:25<00:00,  1.47s/it]\n",
      "Epoch 1/2 - Validation: 100%|██████████| 1127/1127 [12:05<00:00,  1.55it/s]\n"
     ]
    },
    {
     "name": "stdout",
     "output_type": "stream",
     "text": [
      "\n",
      "Epoch 1/2:\n",
      "Train Loss: 0.4468, Train Acc: 85.12%\n",
      "Val Loss: 0.2186, Val Acc: 92.46%\n",
      "Saved best AraBERT model to: /content/drive/MyDrive/best_arabert_model.pt\n"
     ]
    },
    {
     "name": "stderr",
     "output_type": "stream",
     "text": [
      "Epoch 2/2 - Training: 100%|██████████| 8465/8465 [3:27:24<00:00,  1.47s/it]\n",
      "Epoch 2/2 - Validation: 100%|██████████| 1127/1127 [12:05<00:00,  1.55it/s]\n"
     ]
    },
    {
     "name": "stdout",
     "output_type": "stream",
     "text": [
      "\n",
      "Epoch 2/2:\n",
      "Train Loss: 0.2158, Train Acc: 92.56%\n",
      "Val Loss: 0.1634, Val Acc: 94.26%\n",
      "Saved best AraBERT model to: /content/drive/MyDrive/best_arabert_model.pt\n"
     ]
    },
    {
     "data": {
      "image/png": "[encoded data removed]",
      "text/plain": [
       "<Figure size 1200x500 with 2 Axes>"
      ]
     },
     "metadata": {},
     "output_type": "display_data"
    }
   ],
   "source": [
    "def train_arabert_model(model, train_loader, val_loader, criterion, optimizer, num_epochs=5):\n",
    "    best_val_loss = float('inf')\n",
    "    history = {'train_loss': [], 'val_loss': [], 'train_acc': [], 'val_acc': []}\n",
    "\n",
    "    best_model_path = '/content/drive/MyDrive/best_arabert_model.pt'\n",
    "\n",
    "    for epoch in range(num_epochs):\n",
    "        model.train()\n",
    "        train_loss = 0.0\n",
    "        train_correct = 0\n",
    "        train_total = 0\n",
    "\n",
    "        for batch in tqdm(train_loader, desc=f\"Epoch {epoch+1}/{num_epochs} - Training\"):\n",
    "            inputs = batch['input_ids'].to(device)\n",
    "            labels = batch['labels'].to(device)\n",
    "\n",
    "            optimizer.zero_grad()\n",
    "            outputs = model(inputs).logits\n",
    "            loss = criterion(outputs.transpose(1, 2), labels)\n",
    "\n",
    "            loss.backward()\n",
    "            optimizer.step()\n",
    "\n",
    "            train_loss += loss.item()\n",
    "            mask = labels != diacritic_to_idx['<PAD>']\n",
    "            preds = outputs.argmax(dim=-1)\n",
    "            train_correct += ((preds == labels) & mask).sum().item()\n",
    "            train_total += mask.sum().item()\n",
    "\n",
    "        train_loss /= len(train_loader)\n",
    "        train_acc = train_correct / train_total if train_total > 0 else 0\n",
    "\n",
    "        # Validation\n",
    "        model.eval()\n",
    "        val_loss = 0.0\n",
    "        val_correct = 0\n",
    "        val_total = 0\n",
    "\n",
    "        with torch.no_grad():\n",
    "            for batch in tqdm(val_loader, desc=f\"Epoch {epoch+1}/{num_epochs} - Validation\"):\n",
    "                inputs = batch['input_ids'].to(device)\n",
    "                labels = batch['labels'].to(device)\n",
    "\n",
    "                outputs = model(inputs).logits\n",
    "                loss = criterion(outputs.transpose(1, 2), labels)\n",
    "\n",
    "                val_loss += loss.item()\n",
    "                mask = labels != diacritic_to_idx['<PAD>']\n",
    "                preds = outputs.argmax(dim=-1)\n",
    "                val_correct += ((preds == labels) & mask).sum().item()\n",
    "                val_total += mask.sum().item()\n",
    "\n",
    "        val_loss /= len(val_loader)\n",
    "        val_acc = val_correct / val_total if val_total > 0 else 0\n",
    "\n",
    "        history['train_loss'].append(train_loss)\n",
    "        history['val_loss'].append(val_loss)\n",
    "        history['train_acc'].append(train_acc)\n",
    "        history['val_acc'].append(val_acc)\n",
    "\n",
    "        print(f\"\\nEpoch {epoch+1}/{num_epochs}:\")\n",
    "        print(f\"Train Loss: {train_loss:.4f}, Train Acc: {train_acc:.2%}\")\n",
    "        print(f\"Val Loss: {val_loss:.4f}, Val Acc: {val_acc:.2%}\")\n",
    "\n",
    "        if val_loss < best_val_loss:\n",
    "            best_val_loss = val_loss\n",
    "            torch.save(model.state_dict(), best_model_path)\n",
    "            print(f\"Saved best AraBERT model to: {best_model_path}\")\n",
    "\n",
    "    # Plot training history\n",
    "    plt.figure(figsize=(12, 5))\n",
    "\n",
    "    plt.subplot(1, 2, 1)\n",
    "    plt.plot(history['train_loss'], label='Train Loss')\n",
    "    plt.plot(history['val_loss'], label='Val Loss')\n",
    "    plt.title('AraBERT Training and Validation Loss')\n",
    "    plt.xlabel('Epoch')\n",
    "    plt.ylabel('Loss')\n",
    "    plt.legend()\n",
    "    plt.grid(True)\n",
    "\n",
    "    plt.subplot(1, 2, 2)\n",
    "    plt.plot(history['train_acc'], label='Train Acc')\n",
    "    plt.plot(history['val_acc'], label='Val Acc')\n",
    "    plt.title('AraBERT Training and Validation Accuracy')\n",
    "    plt.xlabel('Epoch')\n",
    "    plt.ylabel('Accuracy')\n",
    "    plt.legend()\n",
    "    plt.grid(True)\n",
    "\n",
    "    plt.tight_layout()\n",
    "    plt.savefig('/content/drive/MyDrive/arabert_training_history.png')  \n",
    "    plt.show()\n",
    "\n",
    "    return history\n",
    "\n",
    "\n",
    "# Initialize training components\n",
    "criterion = nn.CrossEntropyLoss(ignore_index=diacritic_to_idx['<PAD>'])\n",
    "optimizer = AdamW(arabert_model.parameters(), lr=2e-5)\n",
    "\n",
    "# Train the model\n",
    "print(\"\\nFine-tuning AraBERT model...\")\n",
    "history = train_arabert_model(arabert_model, train_loader, val_loader, criterion, optimizer, num_epochs=2)"
   ]
  },
  {
   "cell_type": "code",
   "execution_count": null,
   "metadata": {
    "colab": {
     "base_uri": "https://localhost:8080/",
     "height": 1000
    },
    "id": "cBfjoyXKldjb",
    "outputId": "ab276ba8-4a65-4ba4-e953-d28984682a0d"
   },
   "outputs": [
    {
     "name": "stdout",
     "output_type": "stream",
     "text": [
      "\n",
      "Loaded best AraBERT model for testing...\n",
      "Testing on 53754 samples (10.0% of test dataset)\n"
     ]
    },
    {
     "name": "stderr",
     "output_type": "stream",
     "text": [
      "Finding hardest AraBERT examples (30% sample): 100%|██████████| 53754/53754 [07:46<00:00, 115.31it/s]\n"
     ]
    },
    {
     "name": "stdout",
     "output_type": "stream",
     "text": [
      "\n",
      "AraBERT Model: Hardest Examples (30% Test Data)\n",
      "\n",
      "Example 1 (Index 169151, Errors: 86):\n",
      "Input Text: وإنما كان يصح الأخذ برواية القعنبي, ويحيى, لو أمكن أن يكونا خبرين اثنين عن موطئين مختلفين وقولنا ههنا هو قول الشافعي وأبي سليمان\n",
      "True Diacritized Text: وإنما كان يصح الأخذ برواية القعنبي, ويحيى, لو أمكن أن يكونا خبرين اثنين عن موطئين مختلفين وقولنا ههنا هو قول الشافعي وأبي سليمان\n",
      "Predicted Diacritized Text: وَإِنَّمَا كَانَ يَصِحُّ الأَخْذُ بِرِوَايَةِ الْقَعْنَبِيِّ, وَيَحْيَى, لَوْ أَمْكَنَ أَنْ يَكُونَا خَبِرِينَ اثْنَيْنِ عَنْ مُوَطِئِيْنَ مُخْتَلِفِيْنَ وَقَوْلُنَا هَهُنَا هُوَ قَوْلُ الشَّافِعِيِّ وَأَبِي سُلَيْمَانَ\n",
      "\n",
      "Example 2 (Index 206984, Errors: 82):\n",
      "Input Text: يعه حتى ننقله من مكانه ومن طريق مسلم أنا أبو بكر بن أبي شيبة أنا عبد الأعلى عن معمر عن الزهري عن سالم بن عبد الله بن عمرعن ابن ع\n",
      "True Diacritized Text: يعه حتى ننقله من مكانه ومن طريق مسلم أنا أبو بكر بن أبي شيبة أنا عبد الأعلى عن معمر عن الزهري عن سالم بن عبد الله بن عمرعن ابن ع\n",
      "Predicted Diacritized Text: يَعَهُ حَتَّى نَنْقَلَهُ مِنْ مَكَانهِ وَمِنْ طَرِيقِ مُسْلِمٍ أَنَا أَبْو بْكْرِ بْنُ أَبْي شَيْبْةَ أَنَا عَبْدُ الأَعْلَى عَنْ مَعْمَرٍ عَنِ الزُّهْرِيِّ عَنْ سَالِمِ بْنِ عَبْدِ اللَّهِ بْنِ عَمْرَعْنِ ابْنِ عَ\n",
      "\n",
      "Example 3 (Index 343187, Errors: 81):\n",
      "Input Text: ومع ذلك فما اعتقد أنه مشكلة - بعيدا عن الا تعمل- هو أن تبالغ في العمل وأعني بهذا أن تعمل فوق ما تحتاج لكسب العيش وأبعد من ذلك\n",
      "True Diacritized Text: ومع ذلك فما اعتقد أنه مشكلة - بعيداً عن الا تعمل- هو أن تبالغ في العمل وأعني بهذا أن تعمل فوق ما تحتاج لكسب العيش وأبعد من ذلك\n",
      "Predicted Diacritized Text: وَمَعَ ذَلِكَ فَمَا اعْتَقَدَ أَنَّهُ مُشْكِلَةٌ - بِعِيدًا عَنِ الا تَعْمَل- هُوَ أَنْ تَبِالِغَ فِي الْعَمَلِ وَأَعْنِي بِهَذَا أَنْ تَعْمَلَ فَوْقَ مَا تَحْتَاجُ لِكَسْبِ الْعَيْشِ وَأَبِعَدُ مِنْ ذَلِكَ\n",
      "\n",
      "Example 4 (Index 255296, Errors: 81):\n",
      "Input Text: ليه وسلم وحاضنته , اسمها بركة , وكان رسول الله صلى الله عليه وسلم ورثها من أبيه , فأعتقها لما تزوج بخديجة بنت خويلد , فتزوجت بعب\n",
      "True Diacritized Text: لَيْهِ وَسَلَّمَ وَحَاضِنَتُهُ , اسْمُهَا بَرَكَةُ , وَكَانَ رَسُولُ اللَّهِ صَلَّى اللَّهُ عَلَيْهِ وَسَلَّمَ وَرِثَهَا مِنْ أَبِيهِ , فَأَعْتَقَهَا لَمَّا تَزَوَّجَ بِخَدِيجَةَ بِنْتِ خُوَيْلِدٍ , فَتَزَوَّجَتْ بِعُبَ\n",
      "Predicted Diacritized Text: ليه وسلم وحاضنته , اسمها بركة , وكان رسول الله صلى الله عليه وسلم ورثها من أبيه , فأعتقها لما تزوَّج بخديجة بنت خويلد , فتزوَّجت بعب\n",
      "\n",
      "Example 5 (Index 414409, Errors: 79):\n",
      "Input Text: إن أبى المشتري من أن يدفع الثمن مع قبضه لما اشترى وقال لا أدفع الثمن إلا بعد أن أقبض ما اشتريت فللبائع أن يحبس ما باع حتى ينتصف \n",
      "True Diacritized Text: إن أبى المشتري من أن يدفع الثمن مع قبضه لما اشترى وقال لا أدفع الثمن إلا بعد أن أقبض ما اشتريت فللبائع أن يحبس ما باع حتى ينتصف \n",
      "Predicted Diacritized Text: إَنْ أَبَى الْمُشْتَرِي مِنْ أَنْ يَدْفَعَ الثَّمَنَ مَعَ قَبَضِهِ لِمَّا اشْتَرَى وَقَالَ لاَ أَدْفَعُ الثَّمَنَ إِلا بَعْدَ أَنْ أَقْبَضَ مَا اشْتَرَيْت فَلِلْبَائِعِ أَنْ يُحْبَسَ مَا بَاعَ حَتَّى يَنْتَصِفَ \n"
     ]
    },
    {
     "data": {
      "image/png": "[encoded data removed]",
      "text/plain": [
       "<Figure size 1000x500 with 1 Axes>"
      ]
     },
     "metadata": {},
     "output_type": "display_data"
    }
   ],
   "source": [
    "import random\n",
    "from tqdm import tqdm\n",
    "from collections import Counter\n",
    "import matplotlib.pyplot as plt\n",
    "import seaborn as sns\n",
    "import torch\n",
    "import numpy as np\n",
    "\n",
    "# Function to reconstruct text with diacritics\n",
    "def reconstruct_text(chars, diacritics):\n",
    "    \"\"\"Reconstruct text by combining characters and diacritics.\"\"\"\n",
    "    result = []\n",
    "    for char, diac in zip(chars, diacritics):\n",
    "        result.append(char)\n",
    "        if diac and diac != '<NONE>':\n",
    "            result.append(diac)\n",
    "    return ''.join(result)\n",
    "\n",
    "# Function to test AraBERT on hardest examples (30% of test data)\n",
    "def test_arabert_hardest(model, test_dataset, char_to_idx, diacritic_to_idx, idx_to_char, idx_to_diacritic, device, num_examples=5, sample_ratio=0.1, random_seed=42):\n",
    "    \"\"\"Identify and analyze the hardest examples for AraBERT using a 30% sample of the test dataset.\"\"\"\n",
    "    model.eval()\n",
    "    errors = []\n",
    "\n",
    "    # Set random seed for reproducibility\n",
    "    random.seed(random_seed)\n",
    "\n",
    "    # Sample 30% of test dataset indices\n",
    "    total_size = len(test_dataset)\n",
    "    sample_size = int(sample_ratio * total_size)\n",
    "    sampled_indices = random.sample(range(total_size), sample_size)\n",
    "    print(f\"Testing on {sample_size} samples ({sample_ratio*100:.1f}% of test dataset)\")\n",
    "\n",
    "    with torch.no_grad():\n",
    "        for idx in tqdm(sampled_indices, desc=\"Finding hardest AraBERT examples (30% sample)\"):\n",
    "            sample = test_dataset[idx]\n",
    "            input_ids = sample['input_ids'].unsqueeze(0).to(device)\n",
    "            labels = sample['labels'].numpy()\n",
    "\n",
    "            outputs = model(input_ids).logits\n",
    "            preds = outputs.argmax(dim=-1).squeeze(0).cpu().numpy()\n",
    "\n",
    "            mask = labels != diacritic_to_idx['<PAD>']\n",
    "            error_count = ((preds != labels) & mask).sum().item()\n",
    "\n",
    "            errors.append((idx, error_count, input_ids.squeeze().cpu().numpy(), labels, preds))\n",
    "\n",
    "    # Sort errors to find hardest examples\n",
    "    errors.sort(key=lambda x: x[1], reverse=True)\n",
    "    hardest_examples = errors[:num_examples]\n",
    "\n",
    "    # Print hardest examples\n",
    "    print(\"\\nAraBERT Model: Hardest Examples (30% Test Data)\")\n",
    "    for i, (idx, error_count, input_ids, labels, preds) in enumerate(hardest_examples, 1):\n",
    "        chars = [idx_to_char.get(id, '<UNK>') for id in input_ids if id != char_to_idx['<PAD>']]\n",
    "        true_diacritics = [idx_to_diacritic.get(id, '<NONE>') for id in labels if id != diacritic_to_idx['<PAD>']]\n",
    "        pred_diacritics = [idx_to_diacritic.get(id, '<NONE>') for id in preds if id != diacritic_to_idx['<PAD>']]\n",
    "\n",
    "        input_text = ''.join(chars)\n",
    "        true_text = reconstruct_text(chars, true_diacritics)\n",
    "        pred_text = reconstruct_text(chars, pred_diacritics)\n",
    "\n",
    "        print(f\"\\nExample {i} (Index {idx}, Errors: {error_count}):\")\n",
    "        print(f\"Input Text: {input_text}\")\n",
    "        print(f\"True Diacritized Text: {true_text}\")\n",
    "        print(f\"Predicted Diacritized Text: {pred_text}\")\n",
    "\n",
    "    # Plot error distribution\n",
    "    error_diacritics = Counter()\n",
    "    for _, _, _, labels, preds in hardest_examples:\n",
    "        mask = labels != diacritic_to_idx['<PAD>']\n",
    "        for true_id, pred_id in zip(labels[mask], preds[mask]):\n",
    "            if true_id != pred_id:\n",
    "                true_diac = idx_to_diacritic.get(true_id, '<NONE>')\n",
    "                error_diacritics[true_diac] += 1\n",
    "\n",
    "    plt.figure(figsize=(10, 5))\n",
    "    sns.barplot(x=list(error_diacritics.keys()), y=list(error_diacritics.values()))\n",
    "    plt.title('AraBERT: Diacritic Error Distribution in Hardest Examples (30% Test Data)')\n",
    "    plt.xlabel('Diacritic Type')\n",
    "    plt.ylabel('Error Count')\n",
    "    plt.xticks(rotation=45, ha='right')\n",
    "    plt.tight_layout()\n",
    "    plt.savefig('/content/drive/MyDrive/arabert_error_distribution_30percent.png')\n",
    "    plt.show()\n",
    "\n",
    "    return hardest_examples\n",
    "\n",
    "arabert_model.load_state_dict(torch.load('/content/drive/MyDrive/best_arabert_model.pt'))\n",
    "print(\"\\nLoaded best AraBERT model for testing...\")\n",
    "\n",
    "arabert_hardest = test_arabert_hardest(\n",
    "    model=arabert_model,\n",
    "    test_dataset=test_dataset,\n",
    "    char_to_idx=char_to_idx,\n",
    "    diacritic_to_idx=diacritic_to_idx,\n",
    "    idx_to_char=idx_to_char,\n",
    "    idx_to_diacritic=idx_to_diacritic,\n",
    "    device=device,\n",
    "    num_examples=5,\n",
    "    sample_ratio=0.1,\n",
    "    random_seed=42\n",
    ")"
   ]
  },
  {
   "cell_type": "markdown",
   "metadata": {
    "id": "_JCYB8PgnBsT"
   },
   "source": [
    "# corporation  between all trained models\n",
    "BLSTM , fine tuned Arabert , myown tranasformer\n",
    "plot and text in markdown with examples each\n",
    "\n",
    "   \"\"\"\n",
    "    Compare multiple models on the same dataset.\n",
    "\n",
    "    Args:\n",
    "        models_dict (dict): {'Model Name': model_object}\n",
    "        dataset (Dataset): PyTorch-style dataset for evaluation\n",
    "        idx_to_char (dict): index to character mapping\n",
    "        idx_to_diacritic (dict): index to diacritic mapping\n",
    "        diacritic_to_idx (dict): diacritic to index mapping\n",
    "        device (torch.device): device to run models on\n",
    "        num_examples (int): number of hardest examples to visualize\n",
    "    \"\"\""
   ]
  },
  {
   "cell_type": "code",
   "execution_count": null,
   "metadata": {
    "id": "zk510139Y-DL"
   },
   "outputs": [],
   "source": [
    "from collections import defaultdict\n",
    "import torch\n",
    "from tqdm import tqdm\n",
    "import matplotlib.pyplot as plt\n",
    "\n",
    "def compare_models(models_dict, dataset, idx_to_char, idx_to_diacritic, diacritic_to_idx, device, num_examples=3):\n",
    "\n",
    "    results = defaultdict(list)\n",
    "\n",
    "    for model_name, model in models_dict.items():\n",
    "        correct = 0\n",
    "        total = 0\n",
    "        all_examples = []\n",
    "\n",
    "        with torch.no_grad():\n",
    "            for i in tqdm(range(len(dataset)), desc=f\"Evaluating {model_name}\"):\n",
    "                sample = dataset[i]\n",
    "                input_ids = sample['input_ids'].unsqueeze(0).to(device)\n",
    "                labels = sample['labels'].cpu().numpy()\n",
    "\n",
    "                # Get the output from the model, it can be raw tensor or CustomOutputClass\n",
    "                outputs = model(input_ids)\n",
    "                # Access logits based on the output type\n",
    "                logits = outputs.logits if hasattr(outputs, 'logits') else outputs\n",
    "\n",
    "                preds = logits.argmax(dim=-1).squeeze(0).cpu().numpy()\n",
    "\n",
    "                mask = labels != diacritic_to_idx['<PAD>']\n",
    "                correct += ((preds == labels) & mask).sum().item()\n",
    "                total += mask.sum().item()\n",
    "\n",
    "                error_count = ((preds != labels) & mask).sum().item()\n",
    "                all_examples.append((error_count, input_ids.squeeze(0).cpu().numpy(), labels, preds))\n",
    "\n",
    "        accuracy = correct / total if total > 0 else 0\n",
    "        print(f\"{model_name} Accuracy: {accuracy:.2%}\")\n",
    "        results['Model'].append(model_name)\n",
    "        results['Accuracy'].append(accuracy)\n",
    "\n",
    "        # Store top-N hardest examples\n",
    "        all_examples.sort(reverse=True, key=lambda x: x[0])\n",
    "        print(f\"\\nHardest {num_examples} examples for {model_name}:\")\n",
    "        for idx, (err_count, inp_ids, labels, preds) in enumerate(all_examples[:num_examples]):\n",
    "            chars = [idx_to_char.get(id, '') for id in inp_ids if id in idx_to_char]\n",
    "            true_diac = [idx_to_diacritic.get(id, '') for id in labels if id in idx_to_diacritic]\n",
    "            pred_diac = [idx_to_diacritic.get(id, '') for id in preds if id in idx_to_diacritic]\n",
    "\n",
    "            def reconstruct(chars, diacs):\n",
    "                return ''.join(c + (d if d != '<NONE>' else '') for c, d in zip(chars, diacs))\n",
    "\n",
    "            print(f\"\\nExample {idx+1} (Errors: {err_count}):\")\n",
    "            print(\"Input Text:           \", ''.join(chars))\n",
    "            print(\"True Diacritized:     \", reconstruct(chars, true_diac))\n",
    "            print(\"Predicted Diacritized:\", reconstruct(chars, pred_diac))\n",
    "\n",
    "    # Plot comparison bar chart\n",
    "    plt.figure(figsize=(8, 4))\n",
    "    plt.bar(results['Model'], results['Accuracy'], color='skyblue')\n",
    "    plt.ylim(0.0, 1.0)\n",
    "    plt.ylabel(\"Accuracy\")\n",
    "    plt.title(\"Model Accuracy Comparison\")\n",
    "    plt.grid(axis='y')\n",
    "    plt.tight_layout()\n",
    "    plt.savefig(\"model_comparison.png\")\n",
    "    plt.show()\n",
    "\n",
    "    return results"
   ]
  },
  {
   "cell_type": "markdown",
   "metadata": {
    "id": "Uw4tBW0gATUA"
   },
   "source": [
    "# push best model to Hugging face (Transformer from scracth)\n",
    "You can fine it from here :\n",
    "\n",
    "[Arabic Diacritization Transformer ](https://huggingface.co/hatimalhomid/arabic-diacritization-transformer)"
   ]
  },
  {
   "cell_type": "code",
   "execution_count": 6,
   "metadata": {
    "colab": {
     "base_uri": "https://localhost:8080/"
    },
    "id": "6m5OlWFIAeZw",
    "outputId": "cc5b0d41-3241-450d-a7f9-2823b97855f2"
   },
   "outputs": [
    {
     "name": "stdout",
     "output_type": "stream",
     "text": [
      "Requirement already satisfied: huggingface_hub in /usr/local/lib/python3.11/dist-packages (0.30.2)\n",
      "Requirement already satisfied: filelock in /usr/local/lib/python3.11/dist-packages (from huggingface_hub) (3.18.0)\n",
      "Requirement already satisfied: fsspec>=2023.5.0 in /usr/local/lib/python3.11/dist-packages (from huggingface_hub) (2025.3.2)\n",
      "Requirement already satisfied: packaging>=20.9 in /usr/local/lib/python3.11/dist-packages (from huggingface_hub) (24.2)\n",
      "Requirement already satisfied: pyyaml>=5.1 in /usr/local/lib/python3.11/dist-packages (from huggingface_hub) (6.0.2)\n",
      "Requirement already satisfied: requests in /usr/local/lib/python3.11/dist-packages (from huggingface_hub) (2.32.3)\n",
      "Requirement already satisfied: tqdm>=4.42.1 in /usr/local/lib/python3.11/dist-packages (from huggingface_hub) (4.67.1)\n",
      "Requirement already satisfied: typing-extensions>=3.7.4.3 in /usr/local/lib/python3.11/dist-packages (from huggingface_hub) (4.13.2)\n",
      "Requirement already satisfied: charset-normalizer<4,>=2 in /usr/local/lib/python3.11/dist-packages (from requests->huggingface_hub) (3.4.1)\n",
      "Requirement already satisfied: idna<4,>=2.5 in /usr/local/lib/python3.11/dist-packages (from requests->huggingface_hub) (3.10)\n",
      "Requirement already satisfied: urllib3<3,>=1.21.1 in /usr/local/lib/python3.11/dist-packages (from requests->huggingface_hub) (2.4.0)\n",
      "Requirement already satisfied: certifi>=2017.4.17 in /usr/local/lib/python3.11/dist-packages (from requests->huggingface_hub) (2025.4.26)\n"
     ]
    },
    {
     "name": "stderr",
     "output_type": "stream",
     "text": [
      "/usr/local/lib/python3.11/dist-packages/huggingface_hub/utils/_deprecation.py:131: FutureWarning: 'Repository' (from 'huggingface_hub.repository') is deprecated and will be removed from version '1.0'. Please prefer the http-based alternatives instead. Given its large adoption in legacy code, the complete removal is only planned on next major release.\n",
      "For more details, please read https://huggingface.co/docs/huggingface_hub/concepts/git_vs_http.\n",
      "  warnings.warn(warning_message, FutureWarning)\n",
      "Cloning https://huggingface.co/hatimalhomid/arabic-diacritization-transformer into local empty directory.\n",
      "WARNING:huggingface_hub.repository:Cloning https://huggingface.co/hatimalhomid/arabic-diacritization-transformer into local empty directory.\n"
     ]
    },
    {
     "name": "stdout",
     "output_type": "stream",
     "text": [
      "Repository 'hatimalhomid/arabic-diacritization-transformer' created or already exists.\n",
      "Repository cloned successfully.\n",
      "Model file copied successfully.\n"
     ]
    }
   ],
   "source": [
    "from huggingface_hub import HfApi, Repository, create_repo\n",
    "from pathlib import Path\n",
    "import shutil\n",
    "\n",
    "username = \"hatimalhomid\"\n",
    "repo_name = \"arabic-diacritization-transformer\"\n",
    "repo_id = f\"{username}/{repo_name}\"\n",
    "\n",
    "token = \"HUGGINGFACETOKE\"\n",
    "\n",
    "api = HfApi()\n",
    "try:\n",
    "    create_repo(repo_id=repo_id, private=False, token=token, exist_ok=True)\n",
    "    print(f\"Repository '{repo_id}' created or already exists.\")\n",
    "except Exception as e:\n",
    "    print(f\"Error creating repository: {e}\")\n",
    "\n",
    "local_repo_path = Path(f\"/content/{repo_name}\")\n",
    "try:\n",
    "    repo = Repository(local_dir=local_repo_path, clone_from=repo_id, token=token)\n",
    "    print(\"Repository cloned successfully.\")\n",
    "except Exception as e:\n",
    "    print(f\"Error cloning repository: {e}\")\n",
    "    local_repo_path.mkdir(parents=True, exist_ok=True)\n",
    "    repo = Repository(local_dir=local_repo_path, token=token)\n",
    "    repo.git_init()\n",
    "    print(\"Initialized a new local repository using repo.git_init().\")\n",
    "\n",
    "model_path = \"/content/best_transformer_model.pt\"\n",
    "shutil.copy(model_path, local_repo_path / \"pytorch_model.bin\")\n",
    "print(\"Model file copied successfully.\")\n"
   ]
  },
  {
   "cell_type": "markdown",
   "metadata": {
    "id": "Ch07UT7rseZB"
   },
   "source": [
    "# Attempted Use of ALLaM-7B for Arabic Diacritization\n",
    "\n",
    "In this section, I explored the potential of using **ALLaM-7B**, a large language model tailored for Arabic, for the task of diacritization.\n",
    "\n",
    "---\n",
    "\n",
    "#### Model Overview\n",
    "\n",
    "- **Model Name**: ALLaM-7B-Instruct-preview  \n",
    "- **Architecture**: Decoder-only (Causal Language Model)  \n",
    "- **Tokenizer**: SentencePiece tokenizer with Arabic support  \n",
    "- **Parameters**: ~7 billion  \n",
    "- **Pretraining**: Trained on a large-scale Arabic corpus, including text with diacritics (ḥarakāt)\n",
    "\n",
    "ALLaM was loaded using **4-bit quantization** with NF4 to reduce memory usage and enable running the model on limited hardware. Additionally, **LoRA (Low-Rank Adaptation)** was applied to facilitate efficient fine-tuning on downstream tasks like diacritization.\n",
    "\n",
    "---\n",
    "\n",
    "#### Limitations\n",
    "\n",
    "Unfortunately, due to hardware constraints, I was **unable to fully train or fine-tune** ALLaM on the diacritization dataset. The model's size and resource requirements exceeded my available compute capacity.\n",
    "\n",
    "---\n",
    "\n",
    "#### Potential\n",
    "\n",
    "Despite not completing training, I believe ALLaM shows **strong potential** for Arabic diacritization for the following reasons:\n",
    "\n",
    "- It is a **decoder-based Transformer** optimized for generation tasks like this.\n",
    "- It was pretrained on a **massive Arabic dataset**, which includes a large amount of text with diacritics.\n",
    "- It can benefit from **instruction tuning**, making it suitable for structured tasks like restoring missing diacritics when prompted appropriately.\n",
    "\n",
    "---\n",
    "\n",
    "#### Sample Tokenization Check\n",
    "\n",
    "A preliminary test was conducted to verify proper tokenization and alignment with input Arabic text. The tokenizer handled the sample correctly, preserving Arabic characters as expected.\n",
    "\n",
    "---\n",
    "\n",
    "#### Conclusion\n",
    "\n",
    "With sufficient computational resources, training or fine-tuning ALLaM on a diacritization dataset could yield high-quality results. Future work could involve distributed training, using parameter-efficient fine-tuning techniques at scale, or leveraging cloud-based resources to fully utilize the model's capabilities.\n"
   ]
  },
  {
   "cell_type": "code",
   "execution_count": null,
   "metadata": {
    "id": "ihhc0_oasf1d"
   },
   "outputs": [],
   "source": [
    "# Import necessary libraries\n",
    "from transformers import AutoModelForCausalLM, AutoTokenizer, BitsAndBytesConfig\n",
    "from peft import LoraConfig, get_peft_model\n",
    "import torch\n",
    "\n",
    "# Define quantization config for 4-bit\n",
    "bnb_config = BitsAndBytesConfig(\n",
    "    load_in_4bit=True,\n",
    "    bnb_4bit_quant_type=\"nf4\",\n",
    "    bnb_4bit_use_double_quant=True,\n",
    "    bnb_4bit_compute_dtype=torch.bfloat16\n",
    ")\n",
    "\n",
    "# Load ALLaM model and tokenizer\n",
    "model_name = \"ALLaM-AI/ALLaM-7B-Instruct-preview\"\n",
    "allam_tokenizer = AutoTokenizer.from_pretrained(model_name)\n",
    "allam_tokenizer.pad_token = allam_tokenizer.eos_token\n",
    "allam_tokenizer.padding_side = \"right\"\n",
    "\n",
    "allam_model = AutoModelForCausalLM.from_pretrained(\n",
    "    model_name,\n",
    "    quantization_config=bnb_config,\n",
    "    device_map=\"auto\",\n",
    "    low_cpu_mem_usage=True,\n",
    "    torch_dtype=torch.bfloat16\n",
    ")\n",
    "\n",
    "# Configure LoRA\n",
    "lora_config = LoraConfig(\n",
    "    r=16,\n",
    "    lora_alpha=32,\n",
    "    target_modules=[\"q_proj\", \"v_proj\"],\n",
    "    lora_dropout=0.05,\n",
    "    bias=\"none\",\n",
    "    task_type=\"CAUSAL_LM\"\n",
    ")\n",
    "allam_model = get_peft_model(allam_model, lora_config)\n",
    "\n",
    "sample_text = df['undiacritized'].iloc[0][:50]\n",
    "encoded = allam_tokenizer(sample_text, return_tensors='pt', padding=True, truncation=True, max_length=512)\n",
    "decoded = allam_tokenizer.decode(encoded['input_ids'][0], skip_special_tokens=True)\n",
    "print(f\"Sample Text: {sample_text}\")\n",
    "print(f\"Decoded Tokens: {decoded}\")\n",
    "print(f\"Model Parameters: {allam_model.num_parameters()/1e9:.2f}B\")"
   ]
  },
  {
   "cell_type": "code",
   "execution_count": null,
   "metadata": {
    "id": "pNPUcIsesniZ"
   },
   "outputs": [],
   "source": [
    "def test_allam_hardest(model, tokenizer, test_dataset, device, num_examples=5):\n",
    "    model.eval()\n",
    "    errors = []\n",
    "\n",
    "    with torch.no_grad():\n",
    "        for idx in tqdm(range(len(test_dataset)), desc=\"Finding hardest ALLaM examples\"):\n",
    "            sample = test_dataset[idx]\n",
    "            undiacritized = ''.join([idx_to_char.get(id, '<UNK>') for id in sample['input_ids'].numpy() if id != char_to_idx['<PAD>']])\n",
    "            true_diacritized = sample['text']\n",
    "\n",
    "            prompt = f\"Add diacritics to the following Arabic text: {undiacritized}\\nOutput: \"\n",
    "            inputs = tokenizer(prompt, return_tensors='pt', padding=True, truncation=True, max_length=512).to(device)\n",
    "\n",
    "            outputs = model.generate(**inputs, max_length=512)\n",
    "            pred_diacritized = tokenizer.decode(outputs[0], skip_special_tokens=True).split(\"Output: \")[-1].strip()\n",
    "\n",
    "            true_chars = list(true_diacritized)\n",
    "            pred_chars = list(pred_diacritized)\n",
    "            error_count = sum(1 for t, p in zip(true_chars, pred_chars) if t != p)\n",
    "\n",
    "            errors.append((idx, error_count, undiacritized, true_diacritized, pred_diacritized))\n",
    "\n",
    "    errors.sort(key=lambda x: x[1], reverse=True)\n",
    "    hardest_examples = errors[:num_examples]\n",
    "\n",
    "    print(\"\\nALLaM-7B-Instruct: Hardest Examples\")\n",
    "    for i, (idx, error_count, undiacritized, true_diacritized, pred_diacritized) in enumerate(hardest_examples, 1):\n",
    "        print(f\"\\nExample {i} (Index {idx}, Errors: {error_count}):\")\n",
    "        print(f\"Input Text: {undiacritized}\")\n",
    "        print(f\"True Diacritized Text: {true_diacritized}\")\n",
    "        print(f\"Predicted Diacritized Text: {pred_diacritized}\")\n",
    "\n",
    "    # Error distribution (character-level)\n",
    "    error_chars = Counter()\n",
    "    for _, _, _, true_text, pred_text in hardest_examples:\n",
    "        for t, p in zip(true_text, pred_text):\n",
    "            if t != p and t in diacritic_to_idx:\n",
    "                error_chars[t] += 1\n",
    "\n",
    "    plt.figure(figsize=(10, 5))\n",
    "    sns.barplot(x=list(error_chars.keys()), y=list(error_chars.values()))\n",
    "    plt.title('ALLaM-7B-Instruct: Diacritic Error Distribution in Hardest Examples')\n",
    "    plt.xlabel('Diacritic Type')\n",
    "    plt.ylabel('Error Count')\n",
    "    plt.xticks(rotation=45, ha='right')\n",
    "    plt.tight_layout()\n",
    "    plt.savefig('allam_error_distribution.png')\n",
    "    plt.show()\n",
    "\n",
    "    return hardest_examples\n",
    "\n",
    "allam_model = AutoModelForCausalLM.from_pretrained(\n",
    "    \"best_allam_model\",\n",
    "    quantization_config=BitsAndBytesConfig(load_in_4bit=True, bnb_4bit_quant_type=\"nf4\"),\n",
    "    device_map=\"auto\"\n",
    ")\n",
    "allam_tokenizer = AutoTokenizer.from_pretrained(\"best_allam_model\")\n",
    "\n",
    "print(\"\\nTesting ALLaM-7B-Instruct on hardest examples...\")\n",
    "allam_hardest = test_allam_hardest(allam_model, allam_tokenizer, test_dataset, device, num_examples=5)"
   ]
  }
 ],
 "metadata": {
  "accelerator": "GPU",
  "colab": {
   "gpuType": "T4",
   "machine_shape": "hm",
   "provenance": [],
   "toc_visible": true
  },
  "kernelspec": {
   "display_name": "base",
   "language": "python",
   "name": "python3"
  },
  "language_info": {
   "codemirror_mode": {
    "name": "ipython",
    "version": 3
   },
   "file_extension": ".py",
   "mimetype": "text/x-python",
   "name": "python",
   "nbconvert_exporter": "python",
   "pygments_lexer": "ipython3",
   "version": "3.10.9"
  }
 },
 "nbformat": 4,
 "nbformat_minor": 0
}
